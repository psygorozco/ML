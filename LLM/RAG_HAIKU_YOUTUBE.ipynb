{
  "nbformat": 4,
  "nbformat_minor": 0,
  "metadata": {
    "colab": {
      "provenance": [],
      "include_colab_link": true
    },
    "kernelspec": {
      "name": "python3",
      "display_name": "Python 3"
    },
    "language_info": {
      "name": "python"
    }
  },
  "cells": [
    {
      "cell_type": "markdown",
      "metadata": {
        "id": "view-in-github",
        "colab_type": "text"
      },
      "source": [
        "<a href=\"https://colab.research.google.com/github/psygorozco/ML/blob/main/LLM/RAG_HAIKU_YOUTUBE.ipynb\" target=\"_parent\"><img src=\"https://colab.research.google.com/assets/colab-badge.svg\" alt=\"Open In Colab\"/></a>"
      ]
    },
    {
      "cell_type": "code",
      "source": [
        "!pip install -qU \\\n",
        "    langchain==0.1.11 \\\n",
        "    langchain-core==0.1.30 \\\n",
        "    langchain-community==0.0.27 \\\n",
        "    langchain-anthropic==0.1.4 \\\n",
        "    langchainhub==0.1.15 \\\n",
        "    anthropic==0.19.1 \\\n",
        "    voyageai==0.2.1 \\\n",
        "    chromadb \\\n",
        "    youtube-transcript-api"
      ],
      "metadata": {
        "id": "ng8FiVeUknbs"
      },
      "execution_count": 4,
      "outputs": []
    },
    {
      "cell_type": "code",
      "source": [
        "import os\n",
        "from langchain.document_loaders import YoutubeLoader\n",
        "\n",
        "def download_youtube_transcripts(youtube_urls, output_dir=\".\", output_filenames=None):\n",
        "    \"\"\"\n",
        "    Descarga las transcripciones de múltiples videos de YouTube y las guarda en formato de texto (.txt) en un directorio local.\n",
        "\n",
        "    Args:\n",
        "        youtube_urls (list): Lista de URLs de los videos de YouTube.\n",
        "        output_dir (str, optional): Directorio donde se guardarán los archivos de texto. Por defecto, se usa el directorio actual.\n",
        "        output_filenames (list, optional): Lista de nombres de los archivos de texto. Si no se proporciona, se usarán los IDs de los videos de YouTube.\n",
        "    \"\"\"\n",
        "    # Crear el directorio de salida si no existe\n",
        "    os.makedirs(output_dir, exist_ok=True)\n",
        "\n",
        "    # Procesar cada URL de YouTube\n",
        "    for i, youtube_url in enumerate(youtube_urls):\n",
        "        # Cargar la transcripción del video de YouTube\n",
        "        loader = YoutubeLoader.from_youtube_url(youtube_url, add_video_info=False, language=[\"es\"])\n",
        "        docs = loader.load()\n",
        "\n",
        "        # Obtener el ID del video de YouTube\n",
        "        video_id = loader.video_id\n",
        "\n",
        "        # Establecer el nombre del archivo de salida\n",
        "        if output_filenames is None:\n",
        "            output_filename = f\"{video_id}.txt\"\n",
        "        else:\n",
        "            output_filename = output_filenames[i]\n",
        "        output_path = os.path.join(output_dir, output_filename)\n",
        "\n",
        "        # Guardar la transcripción en formato de texto\n",
        "        with open(output_path, \"w\", encoding=\"utf-8\") as f:\n",
        "            for doc in docs:\n",
        "                f.write(doc.page_content)\n",
        "\n",
        "        print(f\"Transcripción guardada en: {output_path}\")"
      ],
      "metadata": {
        "id": "mauwcdwtI4Vx"
      },
      "execution_count": 5,
      "outputs": []
    },
    {
      "cell_type": "code",
      "source": [
        "youtube_urls = [\n",
        "    \"https://youtu.be/3Smhpbid2YY?si=aDXDPr2ri5mWlzI3\",\n",
        "    \"https://youtu.be/j8vYTDJGneU?si=278eEn6SAvFxze5S\",\n",
        "    \"https://youtu.be/Z6gk59AeYkI?si=w_WTAX9Tkn132Rs4\"\n",
        "]\n",
        "download_youtube_transcripts(youtube_urls, output_dir=\"transcripciones\", output_filenames=[\"video1.txt\", \"video2.txt\", \"video3.txt\"])"
      ],
      "metadata": {
        "colab": {
          "base_uri": "https://localhost:8080/"
        },
        "id": "8uH9Dyl2I71N",
        "outputId": "a4d5e19a-893b-4861-caba-e76ec6e01c95"
      },
      "execution_count": 10,
      "outputs": [
        {
          "output_type": "stream",
          "name": "stdout",
          "text": [
            "Transcripción guardada en: transcripciones/video1.txt\n",
            "Transcripción guardada en: transcripciones/video2.txt\n",
            "Transcripción guardada en: transcripciones/video3.txt\n"
          ]
        }
      ]
    },
    {
      "cell_type": "code",
      "source": [
        "from langchain.document_loaders import TextLoader\n",
        "from langchain.text_splitter import RecursiveCharacterTextSplitter\n",
        "\n",
        "# Carga los textos\n",
        "def load_all_documents(directory_path):\n",
        "    documents = []\n",
        "    for filename in os.listdir(directory_path):\n",
        "        if filename.endswith('.txt'):\n",
        "            file_path = os.path.join(directory_path, filename)\n",
        "            loader = TextLoader(file_path)\n",
        "            documents.extend(loader.load())\n",
        "    return documents\n",
        "\n",
        "# Ejemplo de uso\n",
        "directory_path = 'transcripciones'\n",
        "all_documents = load_all_documents(directory_path)\n",
        "\n",
        "# split it into chunks\n",
        "text_splitter = RecursiveCharacterTextSplitter(chunk_size=150, chunk_overlap=20)\n",
        "fragmentos = text_splitter.split_documents(all_documents)"
      ],
      "metadata": {
        "id": "d2gEFgu8I_1x"
      },
      "execution_count": 11,
      "outputs": []
    },
    {
      "cell_type": "code",
      "source": [
        "fragmentos"
      ],
      "metadata": {
        "id": "NIxeRZ_IJgcG"
      },
      "execution_count": null,
      "outputs": []
    },
    {
      "cell_type": "code",
      "source": [
        "import os\n",
        "from getpass import getpass\n",
        "\n",
        "voyage_key = os.getenv(\"VOYAGE_API_KEY\") or getpass(\"Voyage API key: \")"
      ],
      "metadata": {
        "colab": {
          "base_uri": "https://localhost:8080/"
        },
        "id": "meoAyTrInQod",
        "outputId": "939c1f03-33d1-4d43-f69b-e00713c293e7"
      },
      "execution_count": 17,
      "outputs": [
        {
          "name": "stdout",
          "output_type": "stream",
          "text": [
            "Voyage API key: ··········\n"
          ]
        }
      ]
    },
    {
      "cell_type": "code",
      "source": [
        "from langchain_community.embeddings import VoyageEmbeddings\n",
        "\n",
        "embed = VoyageEmbeddings(\n",
        "    voyage_api_key=voyage_key, model=\"voyage-2\"\n",
        ")"
      ],
      "metadata": {
        "id": "0dy8WXc4nhPI"
      },
      "execution_count": 18,
      "outputs": []
    },
    {
      "cell_type": "code",
      "source": [
        "from langchain.vectorstores import Chroma\n",
        "db = Chroma.from_documents(fragmentos, embed, persist_directory=\"./chroma_db\")"
      ],
      "metadata": {
        "id": "HjBicRZOnhLT"
      },
      "execution_count": 20,
      "outputs": []
    },
    {
      "cell_type": "code",
      "source": [
        "db"
      ],
      "metadata": {
        "colab": {
          "base_uri": "https://localhost:8080/"
        },
        "id": "C5FsswaRLLzM",
        "outputId": "aa4e2cf0-485f-4acd-df1d-8914f9977c7b"
      },
      "execution_count": 21,
      "outputs": [
        {
          "output_type": "execute_result",
          "data": {
            "text/plain": [
              "<langchain_community.vectorstores.chroma.Chroma at 0x7d5a6e943dc0>"
            ]
          },
          "metadata": {},
          "execution_count": 21
        }
      ]
    },
    {
      "cell_type": "code",
      "source": [
        "from langchain_anthropic import ChatAnthropic\n",
        "\n",
        "anthropic_api_key = os.getenv(\"ANTHROPIC_API_KEY\") or getpass(\"Anthropic API key: \")\n",
        "\n",
        "# chat completion llm\n"
      ],
      "metadata": {
        "colab": {
          "base_uri": "https://localhost:8080/"
        },
        "id": "RySATpsioz6R",
        "outputId": "01bee610-348f-41c7-cf6b-cd0eeea57f1e"
      },
      "execution_count": 31,
      "outputs": [
        {
          "name": "stdout",
          "output_type": "stream",
          "text": [
            "Anthropic API key: ··········\n"
          ]
        }
      ]
    },
    {
      "cell_type": "code",
      "source": [
        "# Create a retriever object from the 'db' using the 'as_retriever' method.\n",
        "# This retriever is likely used for retrieving data or documents from the database.\n",
        "retriever = db.as_retriever(search_type='similarity', search_kwargs={'k': 3})"
      ],
      "metadata": {
        "id": "_R5tubqSLkal"
      },
      "execution_count": 23,
      "outputs": []
    },
    {
      "cell_type": "markdown",
      "source": [
        "HASTA AQUÍ\n"
      ],
      "metadata": {
        "id": "JbTtSJF5L-kT"
      }
    },
    {
      "cell_type": "code",
      "source": [
        "docs = retriever.get_relevant_documents(\"¿Qué es la depresión?\")\n"
      ],
      "metadata": {
        "id": "iq5NN42NL5gU"
      },
      "execution_count": 24,
      "outputs": []
    },
    {
      "cell_type": "code",
      "source": [
        "print(docs[1].page_content)"
      ],
      "metadata": {
        "colab": {
          "base_uri": "https://localhost:8080/"
        },
        "id": "jJDt65PPqiWu",
        "outputId": "7eeaa0c6-3493-40d6-dbbe-9b21ce7287a4"
      },
      "execution_count": 28,
      "outputs": [
        {
          "output_type": "stream",
          "name": "stdout",
          "text": [
            "en el vídeo de hoy veremos los principales síntomas y características de la depresión quédate conmigo hasta el final y descubrirás algunas claves\n"
          ]
        }
      ]
    },
    {
      "cell_type": "code",
      "source": [
        "def consultas(vectores, pregunta):\n",
        "    from langchain.chains import RetrievalQA\n",
        "\n",
        "    llm = ChatAnthropic(\n",
        "    anthropic_api_key=anthropic_api_key,\n",
        "    model_name=\"claude-3-haiku-20240307\",  # change \"opus\" -> \"sonnet\" for speed\n",
        "    temperature=0.0\n",
        "    )\n",
        "\n",
        "    retriever = vectores.as_retriever(search_type='similarity', search_kwargs={'k': 3})\n",
        "\n",
        "    chain = RetrievalQA.from_chain_type(llm=llm, chain_type=\"stuff\", retriever=retriever)\n",
        "\n",
        "    answer = chain.run(pregunta)\n",
        "    return answer"
      ],
      "metadata": {
        "id": "iwLoShzEqtka"
      },
      "execution_count": 34,
      "outputs": []
    },
    {
      "cell_type": "code",
      "source": [
        "consultas(db, \"¿Cómo ayudar a alguién con depresión?\")"
      ],
      "metadata": {
        "colab": {
          "base_uri": "https://localhost:8080/",
          "height": 218
        },
        "id": "Qlrnlhgkq2EJ",
        "outputId": "98cc6b30-ef71-4b60-ddb0-8b9b4d06e18f"
      },
      "execution_count": 36,
      "outputs": [
        {
          "output_type": "execute_result",
          "data": {
            "text/plain": [
              "'Según el contexto proporcionado, aquí hay 7 claves útiles para ayudar a alguien que sufre de depresión:\\n\\n1. Escuchar con atención y sin juzgar. Brindar un espacio seguro para que la persona pueda expresar sus sentimientos.\\n\\n2. Mostrar empatía y validar sus emociones. Evitar minimizar o desestimar lo que está sintiendo.\\n\\n3. Animar a la persona a buscar ayuda profesional, como un terapeuta o médico. Ofrecerse a acompañarla a las citas.\\n\\n4. Ayudar con tareas cotidianas que puedan resultar abrumadoras, como cocinar, limpiar o hacer las compras.\\n\\n5. Mantener contacto regular y hacer planes para salir juntos, aunque sea algo sencillo como dar un paseo.\\n\\n6. Ser paciente y no presionar a la persona a \"mejorar\" más rápido de lo que puede.\\n\\n7. Cuidar también de tu propio bienestar emocional para poder brindar un apoyo sostenido.\\n\\nLa clave es estar presente, ser comprensivo y alentar a la persona a buscar la ayuda que necesita. Si tienes más preguntas, no dudes en consultarme.'"
            ],
            "application/vnd.google.colaboratory.intrinsic+json": {
              "type": "string"
            }
          },
          "metadata": {},
          "execution_count": 36
        }
      ]
    }
  ]
}