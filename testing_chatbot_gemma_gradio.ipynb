{
  "nbformat": 4,
  "nbformat_minor": 0,
  "metadata": {
    "colab": {
      "provenance": [],
      "authorship_tag": "ABX9TyOl/7rIqxffUXsOEB5xlZrH",
      "include_colab_link": true
    },
    "kernelspec": {
      "name": "python3",
      "display_name": "Python 3"
    },
    "language_info": {
      "name": "python"
    }
  },
  "cells": [
    {
      "cell_type": "markdown",
      "metadata": {
        "id": "view-in-github",
        "colab_type": "text"
      },
      "source": [
        "<a href=\"https://colab.research.google.com/github/psygorozco/ML/blob/main/testing_chatbot_gemma_gradio.ipynb\" target=\"_parent\"><img src=\"https://colab.research.google.com/assets/colab-badge.svg\" alt=\"Open In Colab\"/></a>"
      ]
    },
    {
      "cell_type": "code",
      "source": [
        "!pip install -q transformers accelerate bitsandbytes"
      ],
      "metadata": {
        "id": "ty4-IFRIr2i0"
      },
      "execution_count": null,
      "outputs": []
    },
    {
      "cell_type": "code",
      "execution_count": null,
      "metadata": {
        "id": "Y_DwnOkvlMYC"
      },
      "outputs": [],
      "source": [
        "from transformers import AutoTokenizer, AutoModelForCausalLM, BitsAndBytesConfig\n",
        "\n",
        "quantization_config = BitsAndBytesConfig(load_in_8bit=True)\n",
        "\n",
        "tokenizer = AutoTokenizer.from_pretrained(\"google/gemma-2b-it\")\n",
        "model = AutoModelForCausalLM.from_pretrained(\"google/gemma-2b-it\", quantization_config=quantization_config)\n",
        "\n",
        "input_text = \"Write me a poem about Machine Learning.\"\n",
        "input_ids = tokenizer(input_text, return_tensors=\"pt\").to(\"cuda\")\n",
        "\n",
        "outputs = model.generate(**input_ids)\n",
        "print(tokenizer.decode(outputs[0]))\n",
        "\n",
        "\n"
      ]
    },
    {
      "cell_type": "code",
      "source": [
        "from transformers import AutoTokenizer, AutoModelForCausalLM\n",
        "import transformers\n",
        "import torch\n",
        "\n",
        "model_id = \"gg-hf/gemma-2b-it\"\n",
        "dtype = torch.bfloat16\n",
        "\n",
        "tokenizer = AutoTokenizer.from_pretrained(model_id)\n",
        "model = AutoModelForCausalLM.from_pretrained(\n",
        "    model_id,\n",
        "    device_map=\"cuda\",\n",
        "    torch_dtype=dtype,\n",
        ")\n",
        "\n",
        "chat = [\n",
        "    { \"role\": \"user\", \"content\": \"Write a hello world program\" },\n",
        "]\n",
        "prompt = tokenizer.apply_chat_template(chat, tokenize=False, add_generation_prompt=True)\n"
      ],
      "metadata": {
        "id": "t5YzvEyQrz6e"
      },
      "execution_count": null,
      "outputs": []
    },
    {
      "cell_type": "code",
      "source": [
        "import gradio as gr\n",
        "from transformers import AutoTokenizer, AutoModelForCausalLM\n",
        "\n",
        "# Tu código existente para cargar el modelo y el tokenizer\n",
        "model_id = 'tu_modelo_id'\n",
        "dtype = 'tu_tipo_de_dato'  # por ejemplo, torch.float32\n",
        "tokenizer = AutoTokenizer.from_pretrained(model_id)\n",
        "model = AutoModelForCausalLM.from_pretrained(\n",
        "    model_id,\n",
        "    device_map=\"cuda\",\n",
        "    torch_dtype=dtype,\n",
        ")\n",
        "\n",
        "# Función para generar respuestas del chatbot\n",
        "def generate_response(user_input):\n",
        "    chat = [\n",
        "        {\"role\": \"user\", \"content\": user_input},\n",
        "    ]\n",
        "    prompt = tokenizer.apply_chat_template(chat, tokenize=False, add_generation_prompt=True)\n",
        "    # Aquí agregarías la lógica para generar la respuesta usando tu modelo\n",
        "    # Por ejemplo:\n",
        "    # response = model.generate(...)\n",
        "    # return tokenizer.decode(response[0])\n",
        "    return \"Respuesta del modelo\"\n",
        "\n",
        "# Configuración de la interfaz de Gradio\n",
        "with gr.Blocks() as demo:\n",
        "    chatbot = gr.Chatbot()\n",
        "    user_input = gr.Textbox(label=\"Tu mensaje\")\n",
        "    submit_button = gr.Button(\"Enviar\")\n",
        "\n",
        "    # Cuando se presiona el botón, se llama a esta función\n",
        "    def update_chatbot(user_input, chat_history):\n",
        "        bot_response = generate_response(user_input)\n",
        "        chat_history.append((user_input, bot_response))\n",
        "        return chat_history\n",
        "\n",
        "    submit_button.click(\n",
        "        update_chatbot,\n",
        "        inputs=[user_input, chatbot],\n",
        "        outputs=[chatbot]\n",
        "    )\n",
        "\n",
        "# Lanzar la aplicación\n",
        "demo.launch()"
      ],
      "metadata": {
        "id": "ot0Cg-bHsXTy"
      },
      "execution_count": null,
      "outputs": []
    }
  ]
}