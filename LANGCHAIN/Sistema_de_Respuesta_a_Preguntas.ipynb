{
  "cells": [
    {
      "cell_type": "markdown",
      "metadata": {
        "id": "view-in-github",
        "colab_type": "text"
      },
      "source": [
        "<a href=\"https://colab.research.google.com/github/psygorozco/ML/blob/main/LANGCHAIN/Sistema_de_Respuesta_a_Preguntas.ipynb\" target=\"_parent\"><img src=\"https://colab.research.google.com/assets/colab-badge.svg\" alt=\"Open In Colab\"/></a>"
      ]
    },
    {
      "cell_type": "markdown",
      "id": "0b531635",
      "metadata": {
        "id": "0b531635"
      },
      "source": [
        "* Cargar los datos de los \"documentos largos\".\n",
        "* Dividir los documentos en secciones cortas llamadas fragmentos (chunks).\n",
        "* Transformar los fragmentos en vectores númericos (Embeddings)\n",
        "* Guardar los embeddings en una base de datos vectorial (Pinecone)\n",
        "* Realizar las consultas"
      ]
    },
    {
      "cell_type": "markdown",
      "id": "c1c38380",
      "metadata": {
        "id": "c1c38380"
      },
      "source": [
        "### Preparando los Datos"
      ]
    },
    {
      "cell_type": "code",
      "execution_count": 1,
      "id": "688ebd8d",
      "metadata": {
        "colab": {
          "base_uri": "https://localhost:8080/"
        },
        "id": "688ebd8d",
        "outputId": "360858c2-5db2-4450-d1e8-bc9a3c02f1f6"
      },
      "outputs": [
        {
          "output_type": "stream",
          "name": "stdout",
          "text": [
            "\u001b[2K     \u001b[90m━━━━━━━━━━━━━━━━━━━━━━━━━━━━━━━━━━━━━━━━\u001b[0m \u001b[32m257.5/257.5 kB\u001b[0m \u001b[31m3.7 MB/s\u001b[0m eta \u001b[36m0:00:00\u001b[0m\n",
            "\u001b[2K     \u001b[90m━━━━━━━━━━━━━━━━━━━━━━━━━━━━━━━━━━━━━━━━\u001b[0m \u001b[32m809.1/809.1 kB\u001b[0m \u001b[31m7.6 MB/s\u001b[0m eta \u001b[36m0:00:00\u001b[0m\n",
            "\u001b[2K     \u001b[90m━━━━━━━━━━━━━━━━━━━━━━━━━━━━━━━━━━━━━━━━\u001b[0m \u001b[32m1.8/1.8 MB\u001b[0m \u001b[31m13.9 MB/s\u001b[0m eta \u001b[36m0:00:00\u001b[0m\n",
            "\u001b[2K     \u001b[90m━━━━━━━━━━━━━━━━━━━━━━━━━━━━━━━━━━━━━━━━\u001b[0m \u001b[32m211.0/211.0 kB\u001b[0m \u001b[31m16.4 MB/s\u001b[0m eta \u001b[36m0:00:00\u001b[0m\n",
            "\u001b[2K     \u001b[90m━━━━━━━━━━━━━━━━━━━━━━━━━━━━━━━━━━━━━━━━\u001b[0m \u001b[32m75.6/75.6 kB\u001b[0m \u001b[31m7.2 MB/s\u001b[0m eta \u001b[36m0:00:00\u001b[0m\n",
            "\u001b[2K     \u001b[90m━━━━━━━━━━━━━━━━━━━━━━━━━━━━━━━━━━━━━━━━\u001b[0m \u001b[32m1.8/1.8 MB\u001b[0m \u001b[31m19.6 MB/s\u001b[0m eta \u001b[36m0:00:00\u001b[0m\n",
            "\u001b[2K     \u001b[90m━━━━━━━━━━━━━━━━━━━━━━━━━━━━━━━━━━━━━━━━\u001b[0m \u001b[32m260.9/260.9 kB\u001b[0m \u001b[31m24.1 MB/s\u001b[0m eta \u001b[36m0:00:00\u001b[0m\n",
            "\u001b[2K     \u001b[90m━━━━━━━━━━━━━━━━━━━━━━━━━━━━━━━━━━━━━━━━\u001b[0m \u001b[32m68.0/68.0 kB\u001b[0m \u001b[31m6.8 MB/s\u001b[0m eta \u001b[36m0:00:00\u001b[0m\n",
            "\u001b[2K     \u001b[90m━━━━━━━━━━━━━━━━━━━━━━━━━━━━━━━━━━━━━━━━\u001b[0m \u001b[32m49.4/49.4 kB\u001b[0m \u001b[31m2.9 MB/s\u001b[0m eta \u001b[36m0:00:00\u001b[0m\n",
            "\u001b[2K     \u001b[90m━━━━━━━━━━━━━━━━━━━━━━━━━━━━━━━━━━━━━━━━\u001b[0m \u001b[32m77.8/77.8 kB\u001b[0m \u001b[31m8.6 MB/s\u001b[0m eta \u001b[36m0:00:00\u001b[0m\n",
            "\u001b[2K     \u001b[90m━━━━━━━━━━━━━━━━━━━━━━━━━━━━━━━━━━━━━━━━\u001b[0m \u001b[32m58.3/58.3 kB\u001b[0m \u001b[31m6.4 MB/s\u001b[0m eta \u001b[36m0:00:00\u001b[0m\n",
            "\u001b[2K     \u001b[90m━━━━━━━━━━━━━━━━━━━━━━━━━━━━━━━━━━━━━━━━\u001b[0m \u001b[32m53.0/53.0 kB\u001b[0m \u001b[31m5.5 MB/s\u001b[0m eta \u001b[36m0:00:00\u001b[0m\n",
            "\u001b[2K     \u001b[90m━━━━━━━━━━━━━━━━━━━━━━━━━━━━━━━━━━━━━━━━\u001b[0m \u001b[32m138.5/138.5 kB\u001b[0m \u001b[31m15.7 MB/s\u001b[0m eta \u001b[36m0:00:00\u001b[0m\n",
            "\u001b[?25h"
          ]
        }
      ],
      "source": [
        "! pip install -r ./requirements.txt -q"
      ]
    },
    {
      "cell_type": "code",
      "execution_count": 2,
      "id": "e5149b52",
      "metadata": {
        "colab": {
          "base_uri": "https://localhost:8080/"
        },
        "id": "e5149b52",
        "outputId": "6e112313-f7c5-4ff8-cf15-9cfd45942f76"
      },
      "outputs": [
        {
          "output_type": "stream",
          "name": "stdout",
          "text": [
            "\u001b[?25l     \u001b[90m━━━━━━━━━━━━━━━━━━━━━━━━━━━━━━━━━━━━━━━━\u001b[0m \u001b[32m0.0/286.1 kB\u001b[0m \u001b[31m?\u001b[0m eta \u001b[36m-:--:--\u001b[0m\r\u001b[2K     \u001b[91m━━━━━━━━━━━━━━━━━━━━━\u001b[0m\u001b[90m╺\u001b[0m\u001b[90m━━━━━━━━━━━━━━━━━━\u001b[0m \u001b[32m153.6/286.1 kB\u001b[0m \u001b[31m4.5 MB/s\u001b[0m eta \u001b[36m0:00:01\u001b[0m\r\u001b[2K     \u001b[90m━━━━━━━━━━━━━━━━━━━━━━━━━━━━━━━━━━━━━━━━\u001b[0m \u001b[32m286.1/286.1 kB\u001b[0m \u001b[31m4.9 MB/s\u001b[0m eta \u001b[36m0:00:00\u001b[0m\n",
            "\u001b[?25h"
          ]
        }
      ],
      "source": [
        "! pip install pypdf -q"
      ]
    },
    {
      "cell_type": "code",
      "execution_count": 3,
      "id": "a577a2aa",
      "metadata": {
        "colab": {
          "base_uri": "https://localhost:8080/"
        },
        "id": "a577a2aa",
        "outputId": "da695a6f-7913-4e30-d396-2c706a25c32d"
      },
      "outputs": [
        {
          "output_type": "stream",
          "name": "stdout",
          "text": [
            "  Preparing metadata (setup.py) ... \u001b[?25l\u001b[?25hdone\n",
            "  Building wheel for docx2txt (setup.py) ... \u001b[?25l\u001b[?25hdone\n"
          ]
        }
      ],
      "source": [
        "! pip install docx2txt -q"
      ]
    },
    {
      "cell_type": "code",
      "execution_count": 4,
      "id": "4a682695",
      "metadata": {
        "colab": {
          "base_uri": "https://localhost:8080/"
        },
        "id": "4a682695",
        "outputId": "0b63512b-c5d9-4893-9041-06f1753b101d"
      },
      "outputs": [
        {
          "output_type": "stream",
          "name": "stdout",
          "text": [
            "  Preparing metadata (setup.py) ... \u001b[?25l\u001b[?25hdone\n",
            "  Building wheel for wikipedia (setup.py) ... \u001b[?25l\u001b[?25hdone\n"
          ]
        }
      ],
      "source": [
        "! pip install wikipedia -q"
      ]
    },
    {
      "cell_type": "code",
      "execution_count": 5,
      "id": "ff9504ef",
      "metadata": {
        "id": "ff9504ef"
      },
      "outputs": [],
      "source": [
        "import os\n",
        "from dotenv import load_dotenv, find_dotenv"
      ]
    },
    {
      "cell_type": "code",
      "execution_count": 6,
      "id": "509811a4",
      "metadata": {
        "colab": {
          "base_uri": "https://localhost:8080/"
        },
        "id": "509811a4",
        "outputId": "6bed34e7-3018-4df2-f678-05cab132bd89"
      },
      "outputs": [
        {
          "output_type": "execute_result",
          "data": {
            "text/plain": [
              "True"
            ]
          },
          "metadata": {},
          "execution_count": 6
        }
      ],
      "source": [
        "load_dotenv(find_dotenv(), override=True)"
      ]
    },
    {
      "cell_type": "markdown",
      "id": "05da8cfa",
      "metadata": {
        "id": "05da8cfa"
      },
      "source": [
        "### Cargar Documentos"
      ]
    },
    {
      "cell_type": "code",
      "execution_count": 7,
      "id": "4add4766",
      "metadata": {
        "id": "4add4766"
      },
      "outputs": [],
      "source": [
        "def cargar_documento(archivo):\n",
        "    import os\n",
        "    nombre, extension = os.path.splitext(archivo)\n",
        "    if extension == '.pdf':\n",
        "        from langchain.document_loaders import PyPDFLoader\n",
        "        print(f'Cargando {archivo}...')\n",
        "        loader = PyPDFLoader(archivo)\n",
        "    elif extension == '.docx':\n",
        "        from langchain.document_loaders import Docx2txtLoader\n",
        "        print(f'Cargando {archivo}...')\n",
        "        loader = Docx2txtLoader(archivo)\n",
        "    else:\n",
        "        print('El formato del documento no está soportado!')\n",
        "        return None\n",
        "\n",
        "    data = loader.load()\n",
        "    return data"
      ]
    },
    {
      "cell_type": "code",
      "source": [
        "documento = \"Minecraft.pdf\"\n",
        "contenido = cargar_documento(documento)\n",
        "print(contenido)"
      ],
      "metadata": {
        "colab": {
          "base_uri": "https://localhost:8080/"
        },
        "id": "orP6v9a5P81a",
        "outputId": "26e63d80-1621-4cd0-de8a-36c45cfc59c7"
      },
      "id": "orP6v9a5P81a",
      "execution_count": 10,
      "outputs": [
        {
          "output_type": "stream",
          "name": "stdout",
          "text": [
            "Cargando Minecraft.pdf...\n",
            "[Document(page_content='Minecraft  \\n \\nMinecraft  es un  videojuego  de construcción de tipo «mundo abierto » o sandbox  creado \\noriginalmente  por el sueco  Markus Persson  (conocido comúnmente como «Notch») ,19 y \\nposteriormente desarrollado por  Mojang Studios  (actualmente parte de  Microsoft ).20 Fue \\nlanzado el 17 de mayo de 2009, y después de numerosos cam bios, su primera versión estable \\n«1.0» fue publicada el 18 de noviembre de 2011.  \\nMarkus Persson , el creador de Minecraft . \\nUn mes antes del lanzamiento de su versión completa se estrenó una versión para \\ndispositivos móviles llamada  Minecraft: Pocket Edition  en Android ,21 y el 17 de noviembre del \\nmismo año fue lanzada la misma versión para  iOS.22 El 9 de mayo de 2012 fue lanzada la \\nversión del  juego para  Xbox 360  y PS3. Todas las versiones de Minecraft  reciben \\nactualizaciones constantes desde su lanzamiento. En octubre de 2014,  Minecraft  lanzó su \\nedición para  PlayStation Vita ,23 desarroll ada por  Mojang  y 4J Studios . Esta versión presenta \\nlas mismas actualizaciones y similares características que las otras versiones de consola; \\nademás, cuenta con el sistema de  venta cruzada , es decir que al comprar la versión \\nde PlayStation 3  se obtiene también la de  PlayStation Vita . A marzo de 2023 se habían \\nvendido más de 238 millones de copias, siendo actualmente el  videojuego más vendido de la \\nhistoria .2425 \\nEl 15 de septiembre de 2014, fue adquirido por la empresa  Microsoft  por un valor de 2500 \\nmillones de  dólares estadounidenses . Este suceso provocó el alejami ento de  Markus \\nPersson  de la compañía .25 En noviembre de 2016, Microsoft anunció el lanzamiento de la \\nversión completa de  Minecraft: Education Edition .26 \\n', metadata={'source': 'Minecraft.pdf', 'page': 0}), Document(page_content='Jugabilida d \\nClon de Minecraft en  dominio público  \"Manic Digger\" .\\nMinecraft introdujo millones de niños al mundo digital .27 \\nMinecraft es un juego de mundo abierto, y no tiene un fin claramente definido. Esto permite \\nuna gran libertad en cuanto a la elección de su forma de jugar. A pesar de ello, el juego posee \\nun sistema que otorga logros por completar ciertas acciones .2829 La cámara es en primera \\npersona, aunque los jugadores tienen la posibilidad de cambiarla a una perspectiva de tercera \\npersona en cualquier momento .30 \\nEl juego se centra en la colocación y destrucción de bloques, siendo que este se compone de \\nobjetos tridimensionales cúbicos, colocados sobre un patrón de rejilla fija. Estos cubos o \\nbloques representan principalmente distintos elementos de la natural eza, como tierra, piedra, \\nminerales, troncos, entre otros .31 \\nLos jugadores son libres de desplazarse por su entorno y modificarlo mediante  la creación, \\nrecolección y transporte de los bloques que componen al juego, los cuales solo pueden ser \\ncolocados respetando la rejilla fija del juego .3132 Los jugadores crean «granjas», que son \\nestructuras y mecanismos para conseguir un determinado material más fácil (por ejemplo una  \\ngranja que genera oro automáticamente). En el juego se pueden encontrar estructuras \\nespeciales como aldeas, galerías mineras, templos marinos, pirámides y templos selváticos.  \\nInicio \\nAl inicio del juego, el jugador se encuentra en un mundo generado mediante un algoritmo, lo \\nque permite que este sea teóricamente infinito y nunca se generen dos mundos iguales .33 El \\njugador es libre de desplazarse por el terreno, conformado por distintos biomas, entre los que \\nse encuentran desiertos, sabanas, selvas, océanos, llanuras, tundras, etcétera .333435 El juego \\nposee su propio ciclo de tiempo de día y noche, siendo que un día en el juego equivale a 20 \\nminutos en la realidad .31 \\nMund o \\nEl mundo no se genera por completo al principio, sino que está dividido en  chunks  («trozos», \\n«pedazos» traducido literalmente al español, pero sin adaptación oficial) de 16 × 16 bloques \\nen horizontal. Los  chunks  cercanos al jugador se cargan en la  memoria . A medida que este se \\ndesplaza, se generan y añaden nuevos  chunks  al mundo .36 \\n', metadata={'source': 'Minecraft.pdf', 'page': 1}), Document(page_content='Dificulta d \\nIndependientemente de los varios modos de juego también se puede definir la dificultad del \\njuego, siendo el modo más tranquilo el pacífico, que a diferencia de las demás dificultades, no \\npermite que aparezcan monstruos en el juego que puedan herir al jugad or. \\nModos de jueg o \\nSupervivenci a \\nEl modo supervivencia ( survival  en inglés) se basa en la vida real combinada con un poco de \\nfantasía y se trata de la supervivencia al ataque de las múltiples criaturas que surgen en la \\noscuridad o de noche .37 El máximo aguante que tienen los personajes consta de 10 corazones \\n(20 puntos de salud). En este modo las herramientas, armas y armadura se gastan con el uso . \\nCreativ o \\nEn el modo creativo ( creative  en inglés) se centra enteramente en el aspecto de la \\nconstrucción libre. Los jugadores poseen un suministro ilimitado de todos los bloques y objetos \\ndel juego ,38 que pueden colocar y destruir de forma instantánea. Además, no son atacados por \\nlos monstruos, son inmunes a todo daño (aunque sí pueden morir cayendo al vacío si están \\nen Java Edition ) y pueden volar libremente por el mapa. En este modo no se pueden rom per \\nbloques sosteniendo espada, para prevenir la destrucción del entorno cuando el jugador \\ngolpea o ataca.  \\nExtrem o \\nEl modo extremo ( hardcore  en inglés) es idéntico al modo supervivencia, con la diferencia de \\nque tras la muerte del jugador este ya no puede volver a revivir y la dificultad está fijada en \\ndifícil .3940 \\nEspectado r \\nEl modo espectador permite a los jugadores volar a través de bloques y ver el mundo sin \\ninteractuar con él. En este modo, la barra de acceso rápido se convierte en un menú que \\npermite al jugador teletransportarse a los juga dores en la partida. También es posible ver \\ndesde el punto de vista de otro jugador o criatura.  41 \\nAventur a \\nEl modo aventura ( adventure  en inglés) está destinado a los jugadores que se dedican a crear \\nmapas para usuarios que deseen jugar en línea o solos. Este modo de juego se basa en los \\nsiguientes criterios que a fectan al jugador en distintos sentidos :37 \\n• El jugador solo puede romper un bloque si tiene la herramienta ad ecuada, y esta \\nprogramada con comandos para que pueda ser rota.  \\n• Si el creador del mapa así lo configura, la dificultad no puede ser modificada por \\nlos jugadores.  \\nMods y modos de juego no oficiale s \\nAlgunos usuarios o desarrolladores avanzados optan por crea r sus propios modos de juego y \\naplicarlos en servidores o mapas de aventura para jugar en modo de un jugador. Sin embargo, \\nestos modos de juego suelen verse poco y la mayoría de los servidores modifican algunas \\nextensiones para hacer parecer que tienen un modo de juego personalizado.[cita requerida ] ', metadata={'source': 'Minecraft.pdf', 'page': 2}), Document(page_content='En las primeras versiones preliminares de  Minecraft , el único modo de juego disponible era \\nsimilar al creativo actual. En particular, la versión clásica (que ya no recibe actualizaciones) \\naún puede jugarse  gratuitamente desde  navegadores web .19 \\nMultijugado r \\nVéase también:  Servidor de Minecraft  \\nEl modo multijugador en  Minecraft  permite que varios jugadores interactúen y se comuniquen \\nentre sí en un solo mundo. Está disponible a través de multijugador directo de juego a juego, \\njuego LAN, pan talla dividida local (solo consola) y servidores (alojados por jugadores y \\nnegocios) .42 Los jugadores pueden ejecutar sus propios servidores, usar un proveedor de \\nalojamiento o conectarse directamente al juego de otro jugador a través de Xbox Live. Los \\nmundos de un solo jugador tienen soporte de  red de área local , lo que permite a los jugadores \\nunirse a un mundo en computadoras interconectadas localmente sin una configuración de \\nservidor .43 Los servidores multijugador de  Minecraft  están guiados por operadores de \\nservidores, que tienen acceso a los comandos del servidor, como co nfigurar la hora del día y \\nteletransportar a los jugadores. Los operadores también pueden establecer restricciones con \\nrespecto a qué nombres de usuario o  direcciones IP  pueden o no ingresar al servidor .42 Los \\nservidores multijugador tienen una amplia gama de actividades, y algunos servidores tienen \\nsus propias reglas y costumbres únicas. El servidor más grande y popular es  Hypixel , que ha \\nsido visitado por más de 14 millones de jugadores únicos .4445 El combate  jugador contra \\njugador  (PvP) se puede habilitar para permitir la lucha entre jugadores .46 Muchos servidores \\ntienen complementos personalizados que permiten acciones que normalmente no son \\nposibles.  \\nMinecraft Realm s \\nEn 2013, Mojang anunció  Minecraft Realms , un servicio de alojamiento de servidor destinado \\na permitir a los jugadores ejecutar juegos multijugador en servidor de manera fácil y segura sin \\ntener que configurar uno propio .4748 A diferencia de un servid or estándar, solo los jugadores \\ninvitados pueden unirse a los servidores de Realms y estos servidores no usan direcciones IP. \\nLos propietarios de servidores de  Minecraft: Java Edition  Realms pueden invitar hasta veinte \\npersonas a jugar en su servidor, con hasta diez jugadores en línea a la vez. Los propietarios \\nde servidores de  Minecraft  Realms pueden invitar hasta 3000 personas a jugar en su servidor, \\ncon hasta diez jugadores en línea a la vez .49 Los servidores de  Minecraft: Java Edition  Realms \\nno admiten complementos creados por el usuario, pero los jugadores pueden jugar mapas \\npersonalizados de  Minecraft  .50 Los servidores de  Minecraft  Realms admiten complementos \\ncreados por el usuario, paquetes de recursos, paquetes de comportamiento y mapas \\npersonalizados de  Minecraft  .49 En Electronic Entertainment Expo 2016 , se agregó soporte \\npara juegos multiplataforma entre las plataformas  Windows 10 , iOS y Android  a través de \\nRealms a partir de junio de 2016 ,51 con soporte para  Xbox One  y Nintend o Switch  más \\nadelante en 2017 ,52 y soporte para dispositivos de  realidad virtual  . El 31 de julio de 2017, \\nMojang lanzó la versión beta de la actualización que permite el juego multiplataforma .53 El \\nsoporte de Nintendo Switch par a Realms se lanzó en julio de 2018 .54 \\nPersonalizació n \\nLa comunidad de modding  está formada por fanes, usuarios y programadores externos. \\nUsando una  variedad de  interfaces de programas  de aplicaciones que han surgido con el \\ntiempo, han producido una amplia variedad de  contenido descargable  para Minecraft , como \\nmodificaciones,  paquetes de texturas  y mapas personalizados. Las modificaciones del código \\nde Minecraft , llamadas  mods , agregan una variedad de cambios en el juego, que van desde \\nnuevos bloques, nuevos elementos, nuevas turbas hasta conjuntos completos de mecanismos \\npara crear .5556 La comunidad de modding es responsable de un suministro sustancial de ', metadata={'source': 'Minecraft.pdf', 'page': 3}), Document(page_content='mods, desde los que mejoran el juego, como  minimapas ,57 puntos de ruta y contadores de \\ndurabilidad ,58 hasta los que agregan al juego elementos de otros videojuegos y medios. Si \\nbien una variedad de mar cos de mod se desarrollaron de forma independiente mediante  la \\ningeniería inversa  del código, Mojang también mejoró Minecraft  estándar  con marcos oficiales \\npara la modificación, lo que permite la producción de paquetes de recursos creados por la \\ncomunidad, que alteran ciertos elementos del juego, incluidas texturas y sonidos .59 Los \\njugadores también pueden crear sus propios \"mapas\" (archivos guardados personalizados del \\nmundo) que a menudo contienen reglas específicas, desafíos, acertijos y misiones, y \\ncompartirlos para que otros jueguen .60 Mojang agregó un modo aventura en agosto de 201 261 \\ny \"bloques de comando\" en octubre de 2012 ,62 que se crearon especialmente para mapas \\npersonalizados en  Java Edition  . Los paquetes  de datos, introducidos en la versión 1.13 \\nde Java Edition , permiten una mayor personalización, incluida la capacidad de agregar nuevos \\navances, dimensiones, funciones, tablas de botín, predicados, recetas, estructuras, etiquetas, \\nconfiguraciones de genera ción mundial y biomas .6364 \\nLa edición Xbox 360  admite contenido descargable, que está disponible para comprar a través \\nde Xbox Games Store  ; estos paquetes de contenido suelen contener máscaras de personajes \\nadicionales .65 Más tarde recibió soporte para paquetes de texturas en su duodécima \\nactualización de título mientras presentaba \"paquetes de mezcla\", que combina paquetes de \\ntexturas con paquetes de máscaras y cambios en los sonidos, la música y la interfaz de \\nusuario d el juego .66 El primer paquete de mash -up (y, por extensión, el primer paquete de \\ntexturas) para  Xbox 360 Edition  se lanzó el 4 de septiembre de 201 3 y tenía como tema la \\nfranquicia  Mass Effect .67 Sin embargo, a diferencia de  la Edición Java , la Edición Xbox 360  no \\nadmite modificaciones creadas por jugadores ni mapas personalizados. El 17 de mayo de \\n2016 se lanzó en todo el mundo un paquete de recursos de promoción cruzada basado en la \\nfranquicia  Super Mario  de Nintendo para la  edición de Wii U .68 Se anunció el lanzamiento de \\nun paquete combinado basad o en Fallout  en Wii U Edition  .69 En abril de 2018, se \\ndescubrió  malware  en varias máscaras descargables de  Minecraft  creadas por usuarios para \\nusar c on la  edición Java  del juego .7071 Avast  declaró q ue casi 50.000 cuentas estaban \\ninfectadas y, cuando se activaba, el malware intentaba  reformatear  el disco duro del usuario .71\\n70 Mojang solucionó rápidamente el problema y emitió una declaración que decía que \"el juego \\nen sí no ejecutaría ni leería el código \",70 y solo se ejecutaría cuando se abriera la imagen que \\ncontenía la máscara .72 \\nEn junio de 2017, Mojang lanzó una actualización conocida como \" Discovery Update \" para la \\nversión  Bedrock  del juego .73 La actualización incluye un nuevo mapa, un nuevo modo de \\njuego, el \"Mercado\", un catálogo de contenido generado por los usuarios que brinda a los \\ncreadores de Minecraft \"otra forma de ganarse la vida con el juego\", y más .747576 \\nMods de jueg o \\n• Forge  y Fabric , proyectos que modifican una instalación de servidor y de cliente, \\nlas cuales implementan una API para desarrollar mods  \\n• Optifine , mod para el cliente que agrega características para mejorar el \\nrendimiento y estética  \\n• Red Power 2 , mod que agrega característ icas avanzadas a Minecraft en forma de \\ntecnología industrial, como  bombas hidráulicas , paneles solares  y tubos \\nneumáticos , permitiendo incluso emular un  ordenador  completo basado en el  MOS \\n6502  a través de las mecánicas del propio juego .777879 ', metadata={'source': 'Minecraft.pdf', 'page': 4}), Document(page_content='Ediciones de  Minecraf t \\nLa edición principal es la versión  Java  de PC, pero aun así existen otras tres \\nediciones:  Bedrock Edition , Console Edition  y Education Edi tion. \\nBedrock Editio n \\nArtículo principal:  Minecraft Bedrock  \\nEn un principio, esta edición de Minecraft se desarrolló para ser una edición de bolsillo, siendo \\nla edición disponible para teléfonos y tabletas. También hay una edición llamada Windows 10 \\nEdition que se basa en la misma línea de desarrollo y el mismo cód igo de Pocket Edition, \\naunque sólo está disponible para  Windows 10  y está preparada para funcionar también \\nen Holo Lens , dispositivos de  realidad virtual  de Microsoft  y Oculus Rift . También la Pocket \\nEdition normal tenía su soporte para estos dispositivos como con el  Samsung Gear VR . Otras \\nvariantes de esta edición son  Apple TV  Edition y  Fire TV  Edition. Sin embargo, a partir de la \\nversión 1.2, se unificó la jugabilidad de Pocket Edition con las de Windows 10,  Xbox One S  y \\nlos dispositivos de realidad virtual, bajo la llamada \"Bedrock Edition\", permitiendo el juego \\nmultijug ador entre las plataformas anteriores, tanto en mundos con interconexión como en \\nservidores multijugador. Luego de un tiempo se sumó la  Nintendo Switch  a esta edición, y \\nfinalmente la  Playstation 4 . \\nLegacy Editio n \\nEsta edición del juego, antes conocida como \"Console Edition\", estaba preparada para \\nfuncionar en consolas como  Xbox 360 , Xbox One , Wii U , Nintendo Switch , PS3 y PS4. La \\nedición era muy similar a la edición Java y se podía jugar multijugador en distintas consolas \\ncon suscripciones, como es el caso de Xbox, con su servicio  Xbox LIVE  Gold. Con la llegada \\nde la edición Bedrock a PS4 a fines de 2019 todas las ediciones Legacy fueron retiradas del \\nmercado. Aunque siguen siendo accesibles en algunas plataformas, no recibirán más \\nactualizaciones.  \\nEducation Editio n \\nArtículo principal:  Minecraft Education Edition  \\nEsta es una edición especial de  Minecraft Bedrock  orientada al entorno estudiantil. Incorpora \\ncaracterísticas exclusivas como los mundos tutorial, los PNJ (personajes no jugadores ) y el \\nmodo de clase, junto con ítemes exclusivos como un  pizarrón , además de una mesa de \\ncrafteo especial, recipiente y reductor para su uso en clas es de química.  \\nEdición para la República Popular Chin a \\nExiste una edición localizada de  Minecraft  en chino s implificado  desarrollada por  Mojang \\nStudios  y publicada por  NetEase , destinada al los jugadores de la  República Popular China . \\nEsta edición est á disponible tanto en Java Edition como en  Bedrock  y es idéntica a la edición \\ncomercializada por Mojang/Microsoft. Sin embargo, cuenta c on una serie de diferencias, entre \\nlas cuales está su descarga gratuita (pero requiere registro y cumplir con las obligaciones de \\nidentidad de la  República Popular China ), uso de cuenta de  NetEase  en lugar de una cuenta \\nde Mojang o Microsoft, el uso de un lanzador exclusivo , y su propia tienda, además de incluir \\nunos mods preinstalados. Se han modificado y/o censurado los nombres de algunos \\nelementos del juego, con tal de cumplir con las regulaciones del gobierno chino.[cita requerida ] ', metadata={'source': 'Minecraft.pdf', 'page': 5}), Document(page_content='Otros título s \\nMinecraft: Story Mod e \\nArtículo principal:  Minecraft: Story Mode  \\nMinecraft: Story Mode  es un juego  point -and-click desarrollado y publicado por  Telltale \\nGames , basado en el videojuego  sandbox  Minecraft. El juego fue lanzado para  Microsoft \\nWindows , OS X , PlayStation 3 , PlayStation 4 , PlayStation Vita , Wii U , Xbox 360 , Xbox \\nOne, Android  y iOS. El juego fue desarrollado en asociación con Mojang, el desarrollador \\noriginal de  Minecraft. El juego sigue el formato episódico que  Telltale Games  ha utilizado en \\nsus títulos  The Walking Dead , The Wolf Among Us , Tales from the Borderlands  y Game of \\nThrones . El juego se centra en torno a un nuevo personaje, llamado Jesse, que p uede ser \\ntanto hombre o mujer, esto a elección del jugador. El protagonista y sus aliados intentan salvar \\nsu mundo al derrotar al Wither Storm.  \\nMinecraft Dungeon s \\nEsta sección es un extracto de  Minecraft Dungeons .[editar ] \\nMinecraft Dungeons  (en español  Minecraft Mazmorras ) es un  videojuego  perteneciente al \\ngénero de  rol de acción que se lanzó el 26 de mayo de 2020 para  Windows , Xbox \\nOne, Nintendo Switch  y PlayStation 4 ; más tarde se lanzó para  macOS , Xbox Series \\nX|S y PlayStation 5 .8081Desarrollado por  Mojang  y, cuya conversión a las consolas, fue \\nrealizada por  Double Eleven . Se puede jugar solo o en línea con hasta cuatro jugadores.  82 \\nMinecraft Eart h \\nEsta sección es un extracto de  Minecraft Earth .[editar ] \\nMinecraft Earth  fue un  videojueg o perteneciente al género de  sandbox  de realidad aumentada, \\ndesarrollado por  Mojang  y publicado por  Xbox Game Studios . Es una derivación del \\nvideojuego Minecraft, se anunció por primera vez en mayo del año 2019 y estuvo disponible \\npara Android , iOS y iPadOS . El juego es gratuito y se l anzó como acceso temprano (Early \\naccess) por primera vez a principios de octubre de 2019. El juego recibió su última \\nactualización el 5 de enero de 2021, dejando de estar disponible el  30 de junio  del mismo \\naño.83 \\nMinecraft Legend s \\nEsta sección es un extracto de  Minecraft Legends .[editar ] \\nMinec raft Legends  es un  juego derivado  de Minecraft  con la temática \\nde estrategia  desarrollado por  Mojang Studios  y Blackbird Interactive  y publicado por  Xbox \\nGame Studios . Lanzado en  Microsoft Windows , Nintendo Switch , PlayStation 4 , PlayStation \\n5, Xbox One , y Xbox Se ries X/S  el 18 de abril de 2023.  \\n ', metadata={'source': 'Minecraft.pdf', 'page': 6})]\n"
          ]
        }
      ]
    },
    {
      "cell_type": "code",
      "source": [
        "print(len(contenido))"
      ],
      "metadata": {
        "colab": {
          "base_uri": "https://localhost:8080/"
        },
        "id": "lgHbW6FQRFGk",
        "outputId": "3da105cc-6b33-4c26-9a42-4bb236d30d75"
      },
      "id": "lgHbW6FQRFGk",
      "execution_count": 11,
      "outputs": [
        {
          "output_type": "stream",
          "name": "stdout",
          "text": [
            "7\n"
          ]
        }
      ]
    },
    {
      "cell_type": "code",
      "execution_count": 12,
      "id": "cb186434",
      "metadata": {
        "id": "cb186434"
      },
      "outputs": [],
      "source": [
        "# wikipedia\n",
        "def desde_wikipedia(busqueda, lang='es', load_max_docs=3):\n",
        "    from langchain.document_loaders import WikipediaLoader\n",
        "    loader = WikipediaLoader(query=busqueda, lang=lang, load_max_docs=load_max_docs)\n",
        "    data = loader.load()\n",
        "    return data"
      ]
    },
    {
      "cell_type": "code",
      "source": [
        "busqueda =\"inteligencia artificial\"\n",
        "contenido = desde_wikipedia(busqueda)\n",
        "print(contenido)"
      ],
      "metadata": {
        "colab": {
          "base_uri": "https://localhost:8080/"
        },
        "id": "vhPOpkBVRWRy",
        "outputId": "5e239a0b-1e85-469b-9164-902f3a1ddc63"
      },
      "id": "vhPOpkBVRWRy",
      "execution_count": 13,
      "outputs": [
        {
          "output_type": "stream",
          "name": "stdout",
          "text": [
            "[Document(page_content='La inteligencia artificial  (IA), en el contexto de las ciencias de la computación, es una disciplina y un conjunto de capacidades cognoscitivas e intelectuales expresadas por sistemas informáticos o combinaciones de algoritmos cuyo propósito es la creación de máquinas que imiten la inteligencia humana para realizar tareas, y que pueden mejorar conforme recopilen información.[1]\\u200b[2]\\u200b Se hizo presente poco después de la Segunda Guerra Mundial con el desarrollo de la «prueba de Turing», mientras que la locución fue acuñada en 1956 por el informático John McCarthy en la Conferencia de Dartmouth.\\nEn la actualidad, la inteligencia artificial abarca una gran variedad de subcampos. Éstos van desde áreas de propósito general, aprendizaje y percepción, a otras más específicas como el Reconocimiento de voz, el juego de ajedrez, la demostración de teoremas matemáticos, la escritura de poesía y el diagnóstico de enfermedades. La inteligencia artificial sintetiza y automatiza tareas que en principio son intelectuales y, por lo tanto, es potencialmente relevante para cualquier ámbito de actividades intelectuales humanas. En este sentido, es un campo genuinamente universal.[3]\\u200b\\nLa arquitectura de las inteligencias artificiales y los procesos por los cuales aprenden, se mejoran y se implementan en algún área de interés varía según el enfoque de utilidad que se les quiera dar, pero de manera general, estos van desde la ejecución de sencillos algoritmos hasta la interconexión de complejas redes neuronales artificiales que intentan replicar los circuitos neuronales del cerebro humano y que aprenden mediante diferentes modelos de aprendizaje tales como el aprendizaje automático, el aprendizaje por refuerzo, el aprendizaje profundo y el aprendizaje supervisado.[4]\\u200b\\nPor otro lado, el desarrollo y aplicación de la inteligencia artificial en muchos aspectos de la vida cotidiana también ha propiciado la creación de nuevos campos de estudio como la roboética y la ética de las máquinas que abordan aspectos relacionados con la ética en la inteligencia artificial y que se encargan de analizar cómo los avances en este tipo de tecnologías impactarían en diversos ámbitos de la vida, así como el manejo responsable y ético que se les debería dar a los mismos, además de establecer cuál debería ser la manera correcta de proceder de las máquinas y las reglas que deberían cumplir.[5]\\u200b\\nEn cuanto a su clasificación, tradicionalmente se divide a la inteligencia artificial en inteligencia artificial débil, la cual es la única que existe en la actualidad y que se ocupa de realizar tareas específicas, e inteligencia artificial general, que sería una IA que excediese las capacidades humanas. Algunos expertos creen que si alguna vez se alcanza este nivel, se podría dar lugar a la aparición de una singularidad tecnológica, es decir, una entidad tecnológica superior que se mejoraría a sí misma constantemente, volviéndose incontrolable para los humanos, dando pie a teorías como el basilisco de Roko.[6]\\u200b\\nAlgunas de las inteligencias artificiales más conocidas y utilizadas en la actualidad alrededor del mundo incluyen inteligencia artificial en el campo de la salud, asistentes virtuales como Alexa, el asistente de Google o Siri, traductores automáticos como el traductor de Google y DeepL, sistemas de recomendación como el de la plataforma digital de YouTube, motores de ajedrez y otros juegos como Stockfish y AlphaZero, chatbots como ChatGPT, creadores de arte de inteligencia artificial como Midjourney, Dall-e, Leonardo y Stable Diffusion, e incluso la conducción de vehículos autónomos como Tesla Autopilot.[7]\\u200b\\nAsimismo la inteligencia artificial se está desarrollando en la plataforma digital cada vez más, evolucionando y creando nuevas herramientas, como la plataforma laboral que existe desde el año 2023 llamada SIVIUM, una herramienta por la cual una persona postula en forma automatizada a todas las ofertas laborales de todos los portales de trabajo, sin necesidad de estar re', metadata={'title': 'Inteligencia artificial', 'summary': 'La inteligencia artificial  (IA), en el contexto de las ciencias de la computación, es una disciplina y un conjunto de capacidades cognoscitivas e intelectuales expresadas por sistemas informáticos o combinaciones de algoritmos cuyo propósito es la creación de máquinas que imiten la inteligencia humana para realizar tareas, y que pueden mejorar conforme recopilen información.[1]\\u200b[2]\\u200b Se hizo presente poco después de la Segunda Guerra Mundial con el desarrollo de la «prueba de Turing», mientras que la locución fue acuñada en 1956 por el informático John McCarthy en la Conferencia de Dartmouth.\\nEn la actualidad, la inteligencia artificial abarca una gran variedad de subcampos. Éstos van desde áreas de propósito general, aprendizaje y percepción, a otras más específicas como el Reconocimiento de voz, el juego de ajedrez, la demostración de teoremas matemáticos, la escritura de poesía y el diagnóstico de enfermedades. La inteligencia artificial sintetiza y automatiza tareas que en principio son intelectuales y, por lo tanto, es potencialmente relevante para cualquier ámbito de actividades intelectuales humanas. En este sentido, es un campo genuinamente universal.[3]\\u200b\\nLa arquitectura de las inteligencias artificiales y los procesos por los cuales aprenden, se mejoran y se implementan en algún área de interés varía según el enfoque de utilidad que se les quiera dar, pero de manera general, estos van desde la ejecución de sencillos algoritmos hasta la interconexión de complejas redes neuronales artificiales que intentan replicar los circuitos neuronales del cerebro humano y que aprenden mediante diferentes modelos de aprendizaje tales como el aprendizaje automático, el aprendizaje por refuerzo, el aprendizaje profundo y el aprendizaje supervisado.[4]\\u200b\\nPor otro lado, el desarrollo y aplicación de la inteligencia artificial en muchos aspectos de la vida cotidiana también ha propiciado la creación de nuevos campos de estudio como la roboética y la ética de las máquinas que abordan aspectos relacionados con la ética en la inteligencia artificial y que se encargan de analizar cómo los avances en este tipo de tecnologías impactarían en diversos ámbitos de la vida, así como el manejo responsable y ético que se les debería dar a los mismos, además de establecer cuál debería ser la manera correcta de proceder de las máquinas y las reglas que deberían cumplir.[5]\\u200b\\nEn cuanto a su clasificación, tradicionalmente se divide a la inteligencia artificial en inteligencia artificial débil, la cual es la única que existe en la actualidad y que se ocupa de realizar tareas específicas, e inteligencia artificial general, que sería una IA que excediese las capacidades humanas. Algunos expertos creen que si alguna vez se alcanza este nivel, se podría dar lugar a la aparición de una singularidad tecnológica, es decir, una entidad tecnológica superior que se mejoraría a sí misma constantemente, volviéndose incontrolable para los humanos, dando pie a teorías como el basilisco de Roko.[6]\\u200b\\nAlgunas de las inteligencias artificiales más conocidas y utilizadas en la actualidad alrededor del mundo incluyen inteligencia artificial en el campo de la salud, asistentes virtuales como Alexa, el asistente de Google o Siri, traductores automáticos como el traductor de Google y DeepL, sistemas de recomendación como el de la plataforma digital de YouTube, motores de ajedrez y otros juegos como Stockfish y AlphaZero, chatbots como ChatGPT, creadores de arte de inteligencia artificial como Midjourney, Dall-e, Leonardo y Stable Diffusion, e incluso la conducción de vehículos autónomos como Tesla Autopilot.[7]\\u200b\\nAsimismo la inteligencia artificial se está desarrollando en la plataforma digital cada vez más, evolucionando y creando nuevas herramientas, como la plataforma laboral que existe desde el año 2023 llamada SIVIUM, una herramienta por la cual una persona postula en forma automatizada a todas las ofertas laborales de todos los portales de trabajo, sin necesidad de estar revisando cada oferta laboral que se presente y enviar su CV uno por uno.', 'source': 'https://es.wikipedia.org/wiki/Inteligencia_artificial'}), Document(page_content='Este artículo presenta diversas menciones a la inteligencia artificial en libros, cine y tradición. Aunque el término Inteligencia artificial fue acuñado por John McCarthy en 1956, numerosas son las menciones en literatura y ficción a entidadas creadas por el hombre que demuestran algún rasgo de inteligencia.\\n\\n\\n== Tradición y literatura ==\\nUna de las referencias más antiguas se encuentra en la tradición judía. El Golem es un ser de arcilla creado mediante un procedimiento que imita la creación del hombre por Dios.\\nEn literatura existen también referencias a seres artificiales creados por el hombre, tales como Frankenstein (1818) o Pinocho (1882).\\n\\n\\n== Autómatas inteligentes ==\\nEl Turco era un autómata que jugaba ajedrez. Construido en 1769, derrotó, entre otros, a Napoleón Bonaparte y Benjamin Franklin. Más tarde se descubrió que el invento era una farsa.\\n\\n\\n== IA en el cine ==\\nNumerosas son las películas en donde se hace mención a la inteligencia artificial. Entre las más populares se encuentran:\\n\\n2001: A Space Odyssey (película), en donde HAL, un computador inteligente comanda la nave espacial.\\nBlade Runner, en donde el protagonista debe identificar replicantes (cyborgs)\\nThe Terminator, en donde un robot inteligente venido desde el futuro debe cumplir una misión.\\n\\n\\n== Véase también ==\\nSeguridad de la inteligencia artificial\\n\\n\\n== Enlaces externos ==\\nlista de películas sobre IA (en inglés)\\nCine e inteligencia artificial, una brevísima historia - InfoHispania (en español)', metadata={'title': 'Inteligencia artificial en la ficción', 'summary': 'Este artículo presenta diversas menciones a la inteligencia artificial en libros, cine y tradición. Aunque el término Inteligencia artificial fue acuñado por John McCarthy en 1956, numerosas son las menciones en literatura y ficción a entidadas creadas por el hombre que demuestran algún rasgo de inteligencia.', 'source': 'https://es.wikipedia.org/wiki/Inteligencia_artificial_en_la_ficci%C3%B3n'}), Document(page_content='La inteligencia artificial general (IAG), también conocida como inteligencia artificial fuerte[2]\\u200b(IAF) es un tipo hipotético de inteligencia artificial que iguala o excede la inteligencia humana promedio.[3]\\u200b Si se hiciera realidad, una IAG serí capaz de realizar cualquier tarea intelectual que los seres humanos o los animales puedan llevar a cabo.[4]\\u200b[5]\\u200b La IAG también se ha definido como un sistema autónomo que supera las capacidades humanas en la mayoría de las tareas económicamente valiosas.[6]\\u200b La creación de la IAG es un objetivo primordial de algunas investigaciones sobre inteligencia artificial y de empresas como OpenAI[7]\\u200b, DeepMind y Anthropic. La IAG es un tema habitual en la ciencia ficción y en los estudios sobre el futuro.\\nLos plazos para el desarrollo de la inteligencia artificial sigue siendo objeto de debate entre investigadores y expertos. Algunos sostienen que podría realizarse en años o décadas; otros, que podría tardar un siglo o más; y una minoría cree que quizá nunca se consiga.[8]\\u200bExiste un debate sobre la definición exacta de IAG y sobre si los modelos de lenguaje grandes modernos, como GPT-4, son formas tempranas pero incompletas de IAG.[9]\\u200b\\nHay una amplia discusión sobre la posibilidad de que la IAG suponga una amenaza para la humanidad.[3]\\u200b Por ejemplo, OpenAI la considera un riesgo existencial, mientras que otros creen que el desarrollo de la inteligencia artificial es demasiado remoto como para suponer un riesgo.[10]\\u200b[8]\\u200b[11]\\u200b\\nUna encuesta realizada en 2020 identificó 72 proyectos activos de investigación y desarrollo en IAG distribuidos por 37 países.[12]\\u200b\\n\\n\\n== Problemas éticos y filosóficos ==\\nUna cuestión importante es que el surgimiento y la aplicación de este tipo de inteligencia artificial supondría nuevos problemas como las incógnitas sobre la posición que deberíamos tomar como seres humanos ante un ser que por su nueva inteligencia podría no considerarse solamente como una máquina más. \\nOtra incógnita es si esta podría alcanzar un grado tal donde llegue a tener conciencia, es decir una conciencia emergente a partir de las interacciones que se produzcan dentro de su sistema complejo que da origen a su inteligencia.\\n\\n\\n== Diferencia entre IAG e IA ==\\nLa intención básica del sector de la IAG consiste en implementar la inteligencia general (término acuñado por el psicólogo Charles Spearman) en un sistema computacional. Pei Wang y Ben Goertzel consideran que la diferencia clave entre los conceptos IAG e IA se halla en la “finalidad y alcance de la investigación.”[13]\\u200b Esto quiere decir que la inteligencia artificial trata propiedades específicas en sus proyectos, como por ejemplo la capacidad de aprendizaje lingüístico o reconocimiento de imágenes, sin pretender integrarlas en un sistema más amplio. La IAG, en cambio, se refiere a emprendimientos cuya ambición cubre la entera complejidad de la inteligencia humana.\\nEs una fuente común de confusiones el hecho de que el significado original de IA se asemeja más a la actual IAG que a aquello que hoy en día se entiende, científicamente, como IA. Las habituales equivocaciones producidas entre ambos términos se deben a que, originariamente, IA designó el sueño de moda de la época (mediados del siglo XX): la conciencia artificial. En aquel momento parecía un campo de investigación prometedor pero, al devenir aparente la desproporción de las expectativas situadas sobre el sector  —y la realidad de que, aunque fuera posible alcanzar la conciencia artificial, esta meta sería mucho más lejana de lo anticipado— la decadencia en el estudio de aquello que se conocía con el nombre de IA fue notable.\\nPosteriormente al fracaso de esa generación pionera de investigadores, aquellos que permanecieron en general trasladaron su trabajo a otras materias más asumibles (sobre todo aspectos particulares de la inteligencia), y no volvieron a acercarse al reto de la conciencia artificial. Así pues, la expresión IA cobró un nuevo significado y un extenso ámbito de investig', metadata={'title': 'Inteligencia artificial general', 'summary': 'La inteligencia artificial general (IAG), también conocida como inteligencia artificial fuerte[2]\\u200b(IAF) es un tipo hipotético de inteligencia artificial que iguala o excede la inteligencia humana promedio.[3]\\u200b Si se hiciera realidad, una IAG serí capaz de realizar cualquier tarea intelectual que los seres humanos o los animales puedan llevar a cabo.[4]\\u200b[5]\\u200b La IAG también se ha definido como un sistema autónomo que supera las capacidades humanas en la mayoría de las tareas económicamente valiosas.[6]\\u200b La creación de la IAG es un objetivo primordial de algunas investigaciones sobre inteligencia artificial y de empresas como OpenAI[7]\\u200b, DeepMind y Anthropic. La IAG es un tema habitual en la ciencia ficción y en los estudios sobre el futuro.\\nLos plazos para el desarrollo de la inteligencia artificial sigue siendo objeto de debate entre investigadores y expertos. Algunos sostienen que podría realizarse en años o décadas; otros, que podría tardar un siglo o más; y una minoría cree que quizá nunca se consiga.[8]\\u200bExiste un debate sobre la definición exacta de IAG y sobre si los modelos de lenguaje grandes modernos, como GPT-4, son formas tempranas pero incompletas de IAG.[9]\\u200b\\nHay una amplia discusión sobre la posibilidad de que la IAG suponga una amenaza para la humanidad.[3]\\u200b Por ejemplo, OpenAI la considera un riesgo existencial, mientras que otros creen que el desarrollo de la inteligencia artificial es demasiado remoto como para suponer un riesgo.[10]\\u200b[8]\\u200b[11]\\u200b\\nUna encuesta realizada en 2020 identificó 72 proyectos activos de investigación y desarrollo en IAG distribuidos por 37 países.[12]\\u200b\\n\\n', 'source': 'https://es.wikipedia.org/wiki/Inteligencia_artificial_general'})]\n"
          ]
        }
      ]
    },
    {
      "cell_type": "code",
      "source": [
        "print(len(contenido))"
      ],
      "metadata": {
        "colab": {
          "base_uri": "https://localhost:8080/"
        },
        "id": "XMuEeetrRvIy",
        "outputId": "66f72dbc-f670-4923-dc1f-b2d0982a00ac"
      },
      "id": "XMuEeetrRvIy",
      "execution_count": 14,
      "outputs": [
        {
          "output_type": "stream",
          "name": "stdout",
          "text": [
            "3\n"
          ]
        }
      ]
    },
    {
      "cell_type": "markdown",
      "id": "eeaca4b0",
      "metadata": {
        "id": "eeaca4b0"
      },
      "source": [
        "### Fragmentar los datos"
      ]
    },
    {
      "cell_type": "code",
      "execution_count": null,
      "id": "59f455b9",
      "metadata": {
        "id": "59f455b9"
      },
      "outputs": [],
      "source": [
        "def fragmentar(data, chunk_size=150):\n",
        "    from langchain.text_splitter import RecursiveCharacterTextSplitter\n",
        "    text_splitter = RecursiveCharacterTextSplitter(chunk_size=chunk_size, chunk_overlap=20)\n",
        "    fragmentos = text_splitter.split_documents(data)\n",
        "    return fragmentos"
      ]
    },
    {
      "cell_type": "markdown",
      "id": "0725b19a",
      "metadata": {
        "id": "0725b19a"
      },
      "source": [
        "### Costos OpenAI"
      ]
    },
    {
      "cell_type": "code",
      "execution_count": null,
      "id": "69bccc16",
      "metadata": {
        "id": "69bccc16"
      },
      "outputs": [],
      "source": [
        "def costo_embedding(texts):\n",
        "    import tiktoken\n",
        "    enc = tiktoken.encoding_for_model('text-embedding-ada-002')\n",
        "    total_tokens = sum([len(enc.encode(page.page_content)) for page in texts])\n",
        "    print(f'Total Tokens: {total_tokens}')\n",
        "    print(f'Embedding Cost in USD: {total_tokens / 1000 * 0.0001:.5f}')"
      ]
    },
    {
      "cell_type": "markdown",
      "id": "9e8caa61",
      "metadata": {
        "id": "9e8caa61"
      },
      "source": [
        "### Borrando Index de Pinecone"
      ]
    },
    {
      "cell_type": "code",
      "execution_count": null,
      "id": "87733198",
      "metadata": {
        "id": "87733198"
      },
      "outputs": [],
      "source": [
        "def borrar_indices(index_name='todos'):\n",
        "    import pinecone\n",
        "    pinecone.init(api_key=os.environ.get('PINECONE_API_KEY'), environment=os.environ.get('PINECONE_ENV'))\n",
        "\n",
        "    if index_name == 'todos':\n",
        "        indexes = pinecone.list_indexes()\n",
        "        print('Borrando todos los índices ... ')\n",
        "        for index in indexes:\n",
        "            pinecone.delete_index(index)\n",
        "        print('Listo!')\n",
        "    else:\n",
        "        print(f'Borrando el índice: {index_name} ...', end='')\n",
        "        pinecone.delete_index(index_name)\n",
        "        print('Listo')"
      ]
    },
    {
      "cell_type": "markdown",
      "id": "094d5a57",
      "metadata": {
        "id": "094d5a57"
      },
      "source": [
        "### Creando Vectores (Embeddings) y subirlos a (Pinecone)"
      ]
    },
    {
      "cell_type": "code",
      "execution_count": null,
      "id": "74d797a1",
      "metadata": {
        "id": "74d797a1"
      },
      "outputs": [],
      "source": [
        "def creando_vectores(index_name):\n",
        "    import pinecone\n",
        "    from langchain.vectorstores import Pinecone\n",
        "    from langchain.embeddings.openai import OpenAIEmbeddings\n",
        "\n",
        "    embeddings = OpenAIEmbeddings()\n",
        "\n",
        "    pinecone.init(api_key=os.environ.get('PINECONE_API_KEY'),\n",
        "                  environment=os.environ.get('PINECONE_ENV'))\n",
        "\n",
        "    if index_name in pinecone.list_indexes():\n",
        "        print(f'El índice {index_name} ya existe. Cargando los embeddings ... ', end='')\n",
        "        vectores = Pinecone.from_existing_index(index_name, embeddings)\n",
        "        print('Ok')\n",
        "    else:\n",
        "        print(f'Creando el índice {index_name} y los embeddings ...', end='')\n",
        "        pinecone.create_index(index_name, dimension=1536, metric='cosine')\n",
        "        vectores = Pinecone.from_documents(fragmentos, embeddings, index_name=index_name)\n",
        "        print('Ok')\n",
        "\n",
        "    return vectores"
      ]
    },
    {
      "cell_type": "markdown",
      "id": "c250eb29",
      "metadata": {
        "id": "c250eb29"
      },
      "source": [
        "### Haciendo consultas"
      ]
    },
    {
      "cell_type": "code",
      "execution_count": null,
      "id": "390728fb",
      "metadata": {
        "id": "390728fb"
      },
      "outputs": [],
      "source": [
        "def consultas(vectores, pregunta):\n",
        "    from langchain.chains import RetrievalQA\n",
        "    from langchain.chat_models import ChatOpenAI\n",
        "\n",
        "    llm = ChatOpenAI(model='gpt-3.5-turbo', temperature=1)\n",
        "\n",
        "    retriever = vectores.as_retriever(search_type='similarity', search_kwargs={'k': 3})\n",
        "\n",
        "    chain = RetrievalQA.from_chain_type(llm=llm, chain_type=\"stuff\", retriever=retriever)\n",
        "\n",
        "    answer = chain.run(pregunta)\n",
        "    return answer"
      ]
    },
    {
      "cell_type": "markdown",
      "id": "b0be00df",
      "metadata": {
        "id": "b0be00df"
      },
      "source": [
        "### Añadiendo memoria"
      ]
    },
    {
      "cell_type": "code",
      "execution_count": null,
      "id": "fc4e3edd",
      "metadata": {
        "id": "fc4e3edd"
      },
      "outputs": [],
      "source": [
        "def consulta_con_memoria(vectores, pregunta, memoria=[]):\n",
        "    from langchain.chains import ConversationalRetrievalChain\n",
        "    from langchain.chat_models import ChatOpenAI\n",
        "\n",
        "    llm = ChatOpenAI(temperature=1)\n",
        "    retriever = vectores.as_retriever(search_type='similarity', search_kwargs={'k': 3})\n",
        "\n",
        "    crc = ConversationalRetrievalChain.from_llm(llm, retriever)\n",
        "    respuesta = crc({'question': pregunta, 'chat_history': memoria})\n",
        "    memoria.append((pregunta, respuesta['answer']))\n",
        "\n",
        "    return respuesta, memoria"
      ]
    },
    {
      "cell_type": "markdown",
      "id": "386f1ba1",
      "metadata": {
        "id": "386f1ba1"
      },
      "source": [
        "### Resumen Final"
      ]
    },
    {
      "cell_type": "code",
      "execution_count": null,
      "id": "6025174b",
      "metadata": {
        "id": "6025174b"
      },
      "outputs": [],
      "source": [
        "documento = \"minecraft.pdf\"\n",
        "contenido = cargar_documento(documento)\n",
        "fragmentos = fragmentar(contenido)\n",
        "print(f\"El Número de fragmentos es de: {len(fragmentos)} fragmentos\")\n",
        "costo_embedding(fragmentos)\n",
        "borrar_indices(\"todos\")\n",
        "index_name = 'minecraft'\n",
        "vectores = creando_vectores(index_name)"
      ]
    },
    {
      "cell_type": "code",
      "execution_count": null,
      "id": "8b5c5447",
      "metadata": {
        "id": "8b5c5447",
        "outputId": "25305b23-b3ea-44c5-b14a-bff8a5a5af6f"
      },
      "outputs": [
        {
          "name": "stdout",
          "output_type": "stream",
          "text": [
            "Realiza una pregunta escribe 'salir' para terminar: \n",
            "quien es el creador del juego?\n",
            "El juego Minecraft: Story Mode fue desarrollado por Telltale Games en colaboración con Mojang Studios, la compañía que creó el juego original de Minecraft.\n",
            "Realiza una pregunta escribe 'salir' para terminar: \n",
            "¿Qué me permite hacer el modo espectador?\n",
            "El modo espectador te permite teletransportarte a otros jugadores en la partida. También te permite ver el juego desde el punto de vista de otro jugador o criatura. En algunos casos, puedes cambiar entre las perspectivas de primera y tercera persona. No hay información específica sobre otras funciones que pueda proporcionar el modo espectador.\n"
          ]
        }
      ],
      "source": [
        "memoria = []\n",
        "while True:\n",
        "    pregunta = input(\"Realiza una pregunta escribe 'salir' para terminar: \\n\")\n",
        "    if pregunta == \"salir\":\n",
        "        print(\"Adios!!!\")\n",
        "        break\n",
        "    else:\n",
        "        respuesta, memoria = consulta_con_memoria(vectores, pregunta, memoria)\n",
        "        print(respuesta['answer'])\n",
        ""
      ]
    },
    {
      "cell_type": "code",
      "execution_count": null,
      "id": "ada0de70",
      "metadata": {
        "id": "ada0de70"
      },
      "outputs": [],
      "source": []
    }
  ],
  "metadata": {
    "kernelspec": {
      "display_name": "Python 3 (ipykernel)",
      "language": "python",
      "name": "python3"
    },
    "language_info": {
      "codemirror_mode": {
        "name": "ipython",
        "version": 3
      },
      "file_extension": ".py",
      "mimetype": "text/x-python",
      "name": "python",
      "nbconvert_exporter": "python",
      "pygments_lexer": "ipython3",
      "version": "3.11.4"
    },
    "colab": {
      "provenance": [],
      "include_colab_link": true
    }
  },
  "nbformat": 4,
  "nbformat_minor": 5
}