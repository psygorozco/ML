{
  "nbformat": 4,
  "nbformat_minor": 0,
  "metadata": {
    "colab": {
      "provenance": [],
      "authorship_tag": "ABX9TyPUMtr42TsRlIPnN6U2dCaJ",
      "include_colab_link": true
    },
    "kernelspec": {
      "name": "python3",
      "display_name": "Python 3"
    },
    "language_info": {
      "name": "python"
    }
  },
  "cells": [
    {
      "cell_type": "markdown",
      "metadata": {
        "id": "view-in-github",
        "colab_type": "text"
      },
      "source": [
        "<a href=\"https://colab.research.google.com/github/psygorozco/ML/blob/main/youtube_transcript.ipynb\" target=\"_parent\"><img src=\"https://colab.research.google.com/assets/colab-badge.svg\" alt=\"Open In Colab\"/></a>"
      ]
    },
    {
      "cell_type": "code",
      "execution_count": 7,
      "metadata": {
        "colab": {
          "base_uri": "https://localhost:8080/"
        },
        "id": "AhK6i_cUQkDp",
        "outputId": "cc57261c-19d8-4635-c952-6e794fa12d18"
      },
      "outputs": [
        {
          "output_type": "stream",
          "name": "stdout",
          "text": [
            "Requirement already satisfied: langchain in /usr/local/lib/python3.10/dist-packages (0.1.14)\n",
            "Requirement already satisfied: PyYAML>=5.3 in /usr/local/lib/python3.10/dist-packages (from langchain) (6.0.1)\n",
            "Requirement already satisfied: SQLAlchemy<3,>=1.4 in /usr/local/lib/python3.10/dist-packages (from langchain) (2.0.29)\n",
            "Requirement already satisfied: aiohttp<4.0.0,>=3.8.3 in /usr/local/lib/python3.10/dist-packages (from langchain) (3.9.3)\n",
            "Requirement already satisfied: async-timeout<5.0.0,>=4.0.0 in /usr/local/lib/python3.10/dist-packages (from langchain) (4.0.3)\n",
            "Requirement already satisfied: dataclasses-json<0.7,>=0.5.7 in /usr/local/lib/python3.10/dist-packages (from langchain) (0.6.4)\n",
            "Requirement already satisfied: jsonpatch<2.0,>=1.33 in /usr/local/lib/python3.10/dist-packages (from langchain) (1.33)\n",
            "Requirement already satisfied: langchain-community<0.1,>=0.0.30 in /usr/local/lib/python3.10/dist-packages (from langchain) (0.0.31)\n",
            "Requirement already satisfied: langchain-core<0.2.0,>=0.1.37 in /usr/local/lib/python3.10/dist-packages (from langchain) (0.1.38)\n",
            "Requirement already satisfied: langchain-text-splitters<0.1,>=0.0.1 in /usr/local/lib/python3.10/dist-packages (from langchain) (0.0.1)\n",
            "Requirement already satisfied: langsmith<0.2.0,>=0.1.17 in /usr/local/lib/python3.10/dist-packages (from langchain) (0.1.38)\n",
            "Requirement already satisfied: numpy<2,>=1 in /usr/local/lib/python3.10/dist-packages (from langchain) (1.25.2)\n",
            "Requirement already satisfied: pydantic<3,>=1 in /usr/local/lib/python3.10/dist-packages (from langchain) (2.6.4)\n",
            "Requirement already satisfied: requests<3,>=2 in /usr/local/lib/python3.10/dist-packages (from langchain) (2.31.0)\n",
            "Requirement already satisfied: tenacity<9.0.0,>=8.1.0 in /usr/local/lib/python3.10/dist-packages (from langchain) (8.2.3)\n",
            "Requirement already satisfied: aiosignal>=1.1.2 in /usr/local/lib/python3.10/dist-packages (from aiohttp<4.0.0,>=3.8.3->langchain) (1.3.1)\n",
            "Requirement already satisfied: attrs>=17.3.0 in /usr/local/lib/python3.10/dist-packages (from aiohttp<4.0.0,>=3.8.3->langchain) (23.2.0)\n",
            "Requirement already satisfied: frozenlist>=1.1.1 in /usr/local/lib/python3.10/dist-packages (from aiohttp<4.0.0,>=3.8.3->langchain) (1.4.1)\n",
            "Requirement already satisfied: multidict<7.0,>=4.5 in /usr/local/lib/python3.10/dist-packages (from aiohttp<4.0.0,>=3.8.3->langchain) (6.0.5)\n",
            "Requirement already satisfied: yarl<2.0,>=1.0 in /usr/local/lib/python3.10/dist-packages (from aiohttp<4.0.0,>=3.8.3->langchain) (1.9.4)\n",
            "Requirement already satisfied: marshmallow<4.0.0,>=3.18.0 in /usr/local/lib/python3.10/dist-packages (from dataclasses-json<0.7,>=0.5.7->langchain) (3.21.1)\n",
            "Requirement already satisfied: typing-inspect<1,>=0.4.0 in /usr/local/lib/python3.10/dist-packages (from dataclasses-json<0.7,>=0.5.7->langchain) (0.9.0)\n",
            "Requirement already satisfied: jsonpointer>=1.9 in /usr/local/lib/python3.10/dist-packages (from jsonpatch<2.0,>=1.33->langchain) (2.4)\n",
            "Requirement already satisfied: packaging<24.0,>=23.2 in /usr/local/lib/python3.10/dist-packages (from langchain-core<0.2.0,>=0.1.37->langchain) (23.2)\n",
            "Requirement already satisfied: orjson<4.0.0,>=3.9.14 in /usr/local/lib/python3.10/dist-packages (from langsmith<0.2.0,>=0.1.17->langchain) (3.10.0)\n",
            "Requirement already satisfied: annotated-types>=0.4.0 in /usr/local/lib/python3.10/dist-packages (from pydantic<3,>=1->langchain) (0.6.0)\n",
            "Requirement already satisfied: pydantic-core==2.16.3 in /usr/local/lib/python3.10/dist-packages (from pydantic<3,>=1->langchain) (2.16.3)\n",
            "Requirement already satisfied: typing-extensions>=4.6.1 in /usr/local/lib/python3.10/dist-packages (from pydantic<3,>=1->langchain) (4.10.0)\n",
            "Requirement already satisfied: charset-normalizer<4,>=2 in /usr/local/lib/python3.10/dist-packages (from requests<3,>=2->langchain) (3.3.2)\n",
            "Requirement already satisfied: idna<4,>=2.5 in /usr/local/lib/python3.10/dist-packages (from requests<3,>=2->langchain) (3.6)\n",
            "Requirement already satisfied: urllib3<3,>=1.21.1 in /usr/local/lib/python3.10/dist-packages (from requests<3,>=2->langchain) (2.0.7)\n",
            "Requirement already satisfied: certifi>=2017.4.17 in /usr/local/lib/python3.10/dist-packages (from requests<3,>=2->langchain) (2024.2.2)\n",
            "Requirement already satisfied: greenlet!=0.4.17 in /usr/local/lib/python3.10/dist-packages (from SQLAlchemy<3,>=1.4->langchain) (3.0.3)\n",
            "Requirement already satisfied: mypy-extensions>=0.3.0 in /usr/local/lib/python3.10/dist-packages (from typing-inspect<1,>=0.4.0->dataclasses-json<0.7,>=0.5.7->langchain) (1.0.0)\n"
          ]
        }
      ],
      "source": [
        "! pip install langchain\n",
        "! pip install sentence-transformers\n",
        "! pip install chromadb"
      ]
    },
    {
      "cell_type": "code",
      "source": [
        "from langchain_community.document_loaders import YoutubeLoader"
      ],
      "metadata": {
        "id": "6KRSjrMHQm0Y"
      },
      "execution_count": 8,
      "outputs": []
    },
    {
      "cell_type": "code",
      "source": [
        "! pip install --upgrade --quiet  youtube-transcript-api"
      ],
      "metadata": {
        "id": "MAqJQul-QxIC"
      },
      "execution_count": 9,
      "outputs": []
    },
    {
      "cell_type": "code",
      "source": [
        "loader = YoutubeLoader.from_youtube_url(\n",
        "    \"https://youtu.be/J1wyK4CcvEE?si=AGE13LXHgxCnMySG\", add_video_info=False, language=[\"es\"],\n",
        ")"
      ],
      "metadata": {
        "id": "BPCyMwz6Qzlr"
      },
      "execution_count": 13,
      "outputs": []
    },
    {
      "cell_type": "code",
      "source": [
        "loader.load()"
      ],
      "metadata": {
        "colab": {
          "base_uri": "https://localhost:8080/"
        },
        "id": "P1UZMj4-Q3RP",
        "outputId": "5435d20c-daa0-4d8e-83e1-0e6afe422fd2"
      },
      "execution_count": 14,
      "outputs": [
        {
          "output_type": "execute_result",
          "data": {
            "text/plain": [
              "[Document(page_content='¿Alguna vez has sido víctima o protagonista\\nde una infidelidad? Si es así, sabrás lo doloroso y traumático\\nque puede ser este hecho para una relación de pareja. La infidelidad es una de las principales causas\\nde ruptura y divorcio en el mundo, y afecta tanto a hombres como a mujeres, independientemente\\nde su edad, cultura o nivel socioeconómico. La infidelidad se puede definir como la ruptura\\ndel compromiso de exclusividad sexual y/o emocional que existe entre dos personas que\\nmantienen una relación de pareja. Existen diferentes tipos de infidelidad, según\\nel grado de implicación, la duración, la frecuencia, el motivo y el medio que se utilice\\npara cometerla. Asimismo, hay diversos factores que pueden\\ninfluir en la aparición de la infidelidad, como la insatisfacción, la rutina, la falta\\nde comunicación, la baja autoestima, el estrés, la tentación, el aburrimiento o la venganza. Según un estudio realizado por el Instituto\\nFrancés de Opinión Pública (IFOP) en 2023, el 55% de los hombres y el 32% de las mujeres\\nadmitieron haber sido infieles al menos una vez en su vida. Las principales causas que alegaron fueron\\nla búsqueda de nuevas experiencias (34%), la falta de deseo por la pareja (32%) y el\\namor por otra persona (25%). Ante esta realidad, muchas personas se preguntan\\ncómo superar una infidelidad y si es posible restaurar el compromiso, la complicidad y\\nla confianza en su pareja. La respuesta no es sencilla, ya que depende\\nde muchos factores, como la gravedad de la infidelidad, la actitud de la pareja, el nivel\\nde compromiso, el apoyo social y la ayuda profesional. Sin embargo, existen algunas claves psicológicas\\nque pueden ayudar a afrontar esta situación, e incluso a salir fortalecidos de ella. En el vídeo de hoy te doy 8 claves que te\\nayudarán a superar una infidelidad y recuperar el bienestar en tu relación de pareja. ¡Comenzamos! Las primeras reacciones tras descubrir una\\ninfidelidad pueden llevar una carga emocional intensa y abrumadora. El shock inicial puede dar paso a una serie\\nde emociones que pueden variar desde la negación y la incredulidad hasta la ira, la tristeza,\\nla desolación y, en muchos casos, una fuerte sensación de rechazo y traición. Estas respuestas emocionales son completamente\\nnormales y forman parte del proceso de duelo que se experimenta tras la pérdida de la\\nconfianza en la pareja. Además, estas emociones pueden llevar a comportamientos\\ny pensamientos que pueden perturbar la vida diaria. Se puede experimentar insomnio, pérdida de\\napetito, ansiedad y desesperanza, entre otros muchos síntomas. Por eso es especialmente importante en estos\\nmomentos cuidar de la salud mental y emocional, y buscar ayuda profesional si se considera\\nnecesario. Intentar superar una infidelidad es un proceso\\nlargo y doloroso, que en muchas ocasiones termina en ruptura. Por eso, antes de empezar ni siquiera a plantearnos\\nsupera una infidelidad, tenemos que tener muy claro por qué queremos hacerlo. ¿Merece realmente la pena luchar por mi relación\\nde pareja? ¿Seguimos compartiendo proyectos de futuro? ¿En qué se basaba mi relación de pareja? ¿Quiero seguir con mi pareja por los hijos,\\nla familia, por algún tipo de dependencia emocional, o incluso económica? Más allá de la infidelidad… ¿Sigue habiendo conexión, complicidad y\\namor entre nosotros? Si reflexionas sobre estos puntos y decides\\nembarcarte en el difícil reto de superar una infidelidad, las siguientes 8 claves podrían\\nayudarte. La aceptación puede ser un proceso duro y\\ndoloroso, pero es un paso primordial en el camino de la superación. No significa estar de acuerdo con lo que ha\\nsucedido ni minimizar la magnitud del daño causado. Se trata más bien de reconocer una realidad\\ndolorosa, permite que el proceso de sanación y superación comience. Es esencial recordar que aceptar la situación\\nno es lo mismo que olvidar o excusar el comportamiento de la otra persona. Es simplemente dejar de negar o eludir la\\nrealidad y permitirse vivir con autenticidad el proceso del duelo. A raíz de una traición, es natural experimentar\\nuna avalancha de emociones como la rabia, el miedo, la tristeza o el rechazo. A menudo, intentamos evitar o suprimir estos\\nsentimientos porque pueden ser muy duros y difíciles de manejar. Sin embargo, la contención emocional puede\\nprovocar un mayor daño a largo plazo. Es sano permitirse estar triste o enfadado,\\nllorar o expresar la ira (siempre de manera controlada y no dañina hacia uno mismo o\\nlos demás). Hablar de estos sentimientos con una persona\\nde confianza o un profesional también puede ser de gran ayuda, ya que permite poner en\\norden las emociones y sentimientos y puede proporcionar una nueva perspectiva más objetiva\\nde la situación. En momentos de crisis emocional, el apoyo\\nde amigos, familiares o apoyo profesional puede hacer una gran diferencia en el procesamiento\\ndel dolor y la superación de la traición. Es importante rodearse de personas que permitan\\nla expresión abierta y sin juicios de las emociones, que ofrezcan consuelo y ayuda práctica\\nsi es necesario. Si se siente demasiado difícil hablar de\\nla infidelidad con personas cercanas, buscar la ayuda de un psicólogo o un consejero puede\\nser una alternativa adecuada. Los profesionales de la salud mental pueden\\ndar un soporte eficaz provechando una perspectiva objetiva y proporcionando estrategias para\\nmanejar el dolor y la reestructuración de la vida después de la infidelidad. En medio de las emociones tumultuosas que\\npueden surgir tras una infidelidad, es posible olvidarse de uno mismo e ignorar las propias\\nnecesidades y emociones. Pero este es un momento crucial para la introspección\\ny el autoconocimiento. Reflexionar sobre cómo te sientes y por qué,\\npuede brindar una comprensión más profunda de ti mismo y de lo que necesitas para sanar. Además, puede ser útil reflexionar sobre\\nla relación y considerar si tenía problemas subyacentes que quizás no se habían abordado\\nantes. Pero, es importante recordar que nada justifica\\nuna infidelidad. Estas reflexiones son, más que nada, para\\ntu propio crecimiento y desarrollo personal. La traición puede causar daño a la autoestima\\ny la confianza. Un paso crucial para la recuperación es reconstruir\\nesa confianza, primero en ti mismo y luego en los demás. Trabajar en tu autoestima, recordarte a ti\\nmismo de tu valor, puede ayudarte a superar la sensación de rechazo o fracaso. Por otro lado, recuperar la confianza en las\\nrelaciones futuras puede llevar tiempo y paciencia. Es importante no apresurarse y permitirse\\nel tiempo para sanar y aprender a confiar de nuevo. Las estrategias de afrontamiento te ayudarán\\na gestionar el estrés y los sentimientos difíciles que puede desatar una infidelidad. Técnicas de relajación, mindfulness, ejercicio\\nfísico, actividades creativas, son solo algunos ejemplos de cómo puedes cuidarte durante\\neste difícil proceso. Además, establecer metas y buscar nuevas\\nexperiencias pueden ayudarte a reconstruir tu vida y encontrar un nuevo sentido de dirección\\nen tu camino hacia la superación. Se trata de aprender a vivir con lo que ha\\nsucedido, encontrar formas constructivas de afrontarlo y, finalmente, ser capaz de cerrar\\nesa etapa y avanzar hacia un futuro más saludable y satisfactorio. El perdón no necesariamente implica olvidar\\no reconciliarse con la persona. Es un proceso interno de dejar ir el rencor\\ny la amargura que puede seguir a la traición. El perdón puede ser liberador y a menudo\\nes un punto importante en el camino hacia la curación. De nuevo, es importante destacar que perdonar\\nno significa justificar la acción. Más bien, es una forma personal de encontrar\\nla paz y avanzar sin cargas emocionales que te anclen al pasado. Superar una infidelidad no es tarea fácil,\\ny en ocasiones la ayuda psicológica puede ser más que necesaria. Los profesionales de la salud mental están\\nahí para ofrecer un espacio seguro donde ambas partes puedan expresar sus emociones,\\ncomprender las raíces del problema y aprender a comunicarse de una manera más profunda\\ny efectiva. Al dar el paso de buscar ayuda, no solo están\\ncomprometiéndose a sanar individualmente, sino también a revitalizar la conexión que\\nuna vez compartieron. La terapia brinda herramientas valiosas para\\nmanejar el dolor, reconstruir la confianza y trazar un camino hacia un futuro más fuerte\\ny más saludable juntos. Superar una infidelidad es un proceso complicado,\\nque se nos puede hacer eterno, por eso es esencial centrarnos en el autocuidado como\\npiedra angular de la recuperación emocional. En este proceso, la atención hacia uno mismo\\nse convierte en una herramienta fundamental para reconstruir el equilibrio emocional y\\npsicológico. A medida que enfrentamos las complejidades\\nde la traición, la introspección se erige como un camino hacia la comprensión y el\\ncrecimiento personal. Al priorizar la atención en nuestras propias\\nnecesidades y bienestar, no solo nos otorgamos la posibilidad de sanar, sino que también\\nallanamos el terreno para un desarrollo personal significativo. El impacto de una infidelidad puede abrir\\nla puerta a una profunda reflexión sobre nuestras expectativas, límites y valores\\nen las relaciones. Este proceso de autoevaluación, aunque arduo,\\npuede catalizar una transformación positiva. El camino que comenzamos para intentar superar\\nuna infidelidad se transforma en una oportunidad única para priorizar el cuidado personal\\ny descubrir nuevas dimensiones en nuestro desarrollo individual. Al nutrirnos emocionalmente, establecer límites\\nsaludables y aprender de la experiencia, no solo salimos fortalecidos, sino que también\\ninauguramos un capítulo de crecimiento personal que perdura más allá de las sombras del\\npasado. Y por hoy nada más, ya sabes que, si te ha\\ngustado el vídeo, dale a like, no olvides suscribirte al canal y dale a la campanita\\npara no perderte ninguna novedad. Y comparte este vídeo en tus redes sociales\\npara ayudar a que otras parejas puedan superar esta difícil situación. Nos vemos pronto', metadata={'source': 'J1wyK4CcvEE'})]"
            ]
          },
          "metadata": {},
          "execution_count": 14
        }
      ]
    },
    {
      "cell_type": "code",
      "source": [
        "import os\n",
        "from langchain.document_loaders import YoutubeLoader\n",
        "\n",
        "def download_youtube_transcript(youtube_url, output_dir=\".\", output_filename=None):\n",
        "    \"\"\"\n",
        "    Descarga la transcripción de un video de YouTube y la guarda en formato de texto (.txt) en un directorio local.\n",
        "\n",
        "    Args:\n",
        "        youtube_url (str): URL del video de YouTube.\n",
        "        output_dir (str, optional): Directorio donde se guardará el archivo de texto. Por defecto, se usa el directorio actual.\n",
        "        output_filename (str, optional): Nombre del archivo de texto. Si no se proporciona, se usará el ID del video de YouTube.\n",
        "    \"\"\"\n",
        "    # Crear el directorio de salida si no existe\n",
        "    os.makedirs(output_dir, exist_ok=True)\n",
        "\n",
        "    # Cargar la transcripción del video de YouTube\n",
        "    loader = YoutubeLoader.from_youtube_url(youtube_url, add_video_info=False, language=[\"es\"])\n",
        "    docs = loader.load()\n",
        "\n",
        "    # Obtener el ID del video de YouTube\n",
        "    video_id = loader.video_id\n",
        "\n",
        "    # Establecer el nombre del archivo de salida\n",
        "    if output_filename is None:\n",
        "        output_filename = f\"{video_id}.txt\"\n",
        "    output_path = os.path.join(output_dir, output_filename)\n",
        "\n",
        "    # Guardar la transcripción en formato de texto\n",
        "    with open(output_path, \"w\", encoding=\"utf-8\") as f:\n",
        "        for doc in docs:\n",
        "            f.write(doc.page_content)\n",
        "\n",
        "    print(f\"Transcripción guardada en: {output_path}\")"
      ],
      "metadata": {
        "id": "Lwojl3l4VSIz"
      },
      "execution_count": 15,
      "outputs": []
    },
    {
      "cell_type": "code",
      "source": [
        "youtube_url = \"https://youtu.be/J1wyK4CcvEE?si=AGE13LXHgxCnMySG\"\n",
        "download_youtube_transcript(youtube_url, output_dir=\"transcripciones\")"
      ],
      "metadata": {
        "colab": {
          "base_uri": "https://localhost:8080/"
        },
        "id": "7zh7nSDrVXVp",
        "outputId": "f4c219ec-348f-4071-f3a5-7950cedcc68c"
      },
      "execution_count": 16,
      "outputs": [
        {
          "output_type": "stream",
          "name": "stdout",
          "text": [
            "Transcripción guardada en: transcripciones/J1wyK4CcvEE.txt\n"
          ]
        }
      ]
    },
    {
      "cell_type": "code",
      "source": [
        "import os\n",
        "from langchain.document_loaders import YoutubeLoader\n",
        "\n",
        "def download_youtube_transcripts(youtube_urls, output_dir=\".\", output_filenames=None):\n",
        "    \"\"\"\n",
        "    Descarga las transcripciones de múltiples videos de YouTube y las guarda en formato de texto (.txt) en un directorio local.\n",
        "\n",
        "    Args:\n",
        "        youtube_urls (list): Lista de URLs de los videos de YouTube.\n",
        "        output_dir (str, optional): Directorio donde se guardarán los archivos de texto. Por defecto, se usa el directorio actual.\n",
        "        output_filenames (list, optional): Lista de nombres de los archivos de texto. Si no se proporciona, se usarán los IDs de los videos de YouTube.\n",
        "    \"\"\"\n",
        "    # Crear el directorio de salida si no existe\n",
        "    os.makedirs(output_dir, exist_ok=True)\n",
        "\n",
        "    # Procesar cada URL de YouTube\n",
        "    for i, youtube_url in enumerate(youtube_urls):\n",
        "        # Cargar la transcripción del video de YouTube\n",
        "        loader = YoutubeLoader.from_youtube_url(youtube_url, add_video_info=False, language=[\"es\"])\n",
        "        docs = loader.load()\n",
        "\n",
        "        # Obtener el ID del video de YouTube\n",
        "        video_id = loader.video_id\n",
        "\n",
        "        # Establecer el nombre del archivo de salida\n",
        "        if output_filenames is None:\n",
        "            output_filename = f\"{video_id}.txt\"\n",
        "        else:\n",
        "            output_filename = output_filenames[i]\n",
        "        output_path = os.path.join(output_dir, output_filename)\n",
        "\n",
        "        # Guardar la transcripción en formato de texto\n",
        "        with open(output_path, \"w\", encoding=\"utf-8\") as f:\n",
        "            for doc in docs:\n",
        "                f.write(doc.page_content)\n",
        "\n",
        "        print(f\"Transcripción guardada en: {output_path}\")"
      ],
      "metadata": {
        "id": "bDiLx2QLWY8M"
      },
      "execution_count": 17,
      "outputs": []
    },
    {
      "cell_type": "code",
      "source": [
        "youtube_urls = [\n",
        "    \"https://youtu.be/3Smhpbid2YY?si=aDXDPr2ri5mWlzI3\",\n",
        "    \"https://youtu.be/j8vYTDJGneU?si=278eEn6SAvFxze5S\",\n",
        "    \"https://youtu.be/Z6gk59AeYkI?si=w_WTAX9Tkn132Rs4\"\n",
        "]\n",
        "download_youtube_transcripts(youtube_urls, output_dir=\"transcripciones\", output_filenames=[\"video1.txt\", \"video2.txt\", \"video3.txt\"])"
      ],
      "metadata": {
        "colab": {
          "base_uri": "https://localhost:8080/"
        },
        "id": "VQRfVR_LWb60",
        "outputId": "2bbe8484-3b23-4868-afd2-927ee2d10c38"
      },
      "execution_count": 18,
      "outputs": [
        {
          "output_type": "stream",
          "name": "stdout",
          "text": [
            "Transcripción guardada en: transcripciones/video1.txt\n",
            "Transcripción guardada en: transcripciones/video2.txt\n",
            "Transcripción guardada en: transcripciones/video3.txt\n"
          ]
        }
      ]
    },
    {
      "cell_type": "code",
      "source": [
        "from langchain.document_loaders import TextLoader\n",
        "from langchain.embeddings import HuggingFaceEmbeddings\n",
        "from langchain.vectorstores import Chroma\n",
        "from langchain.chains import ConversationalRetrievalChain\n",
        "from langchain.chat_models import ChatOpenAI\n",
        "from langchain_text_splitters import CharacterTextSplitter\n",
        "\n",
        "# Carga los textos\n",
        "loader = TextLoader('transcripciones/video1.txt')\n",
        "documents = loader.load()\n",
        "\n",
        "# split it into chunks\n",
        "text_splitter = CharacterTextSplitter(chunk_size=1000, chunk_overlap=0)\n",
        "docs = text_splitter.split_documents(documents)\n",
        "\n",
        "# Crea los embeddings con un modelo de Hugging Face\n",
        "embedding_function = HuggingFaceEmbeddings(model_name=\"sentence-transformers/all-MiniLM-L6-v2\")\n",
        "\n",
        "db = Chroma.from_documents(docs, embedding_function, persist_directory=\"./chroma_db\")\n",
        "\n"
      ],
      "metadata": {
        "id": "roBHIx7SZDAy"
      },
      "execution_count": 25,
      "outputs": []
    },
    {
      "cell_type": "code",
      "source": [
        "db"
      ],
      "metadata": {
        "colab": {
          "base_uri": "https://localhost:8080/"
        },
        "id": "yiQf8PIbeVo_",
        "outputId": "25ccfa9a-fce2-49c5-d5e9-ea67e351750c"
      },
      "execution_count": 52,
      "outputs": [
        {
          "output_type": "execute_result",
          "data": {
            "text/plain": [
              "<langchain_community.vectorstores.chroma.Chroma at 0x7f3ef728a110>"
            ]
          },
          "metadata": {},
          "execution_count": 52
        }
      ]
    },
    {
      "cell_type": "code",
      "source": [
        "import os\n",
        "from google.colab import userdata\n",
        "\n",
        "# Set up the Hugging Face Hub API token\n",
        "os.environ[\"HUGGINGFACEHUB_API_TOKEN\"] = userdata.get('HF_TOKEN')"
      ],
      "metadata": {
        "id": "4gd7nh-hfXB3"
      },
      "execution_count": 35,
      "outputs": []
    },
    {
      "cell_type": "code",
      "source": [
        "from langchain_community.llms import HuggingFaceHub\n",
        "import os\n",
        "\n",
        "llm = HuggingFaceHub(\n",
        "    repo_id=\"HuggingFaceH4/zephyr-7b-beta\",\n",
        "    task=\"text-generation\",\n",
        "    model_kwargs={\n",
        "        \"max_new_tokens\": 512,\n",
        "        \"top_k\": 30,\n",
        "        \"temperature\": 0.1,\n",
        "        \"repetition_penalty\": 1.03,\n",
        "    },\n",
        ")"
      ],
      "metadata": {
        "id": "Oae10z0ofIri"
      },
      "execution_count": 51,
      "outputs": []
    }
  ]
}