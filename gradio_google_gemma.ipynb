{
  "nbformat": 4,
  "nbformat_minor": 0,
  "metadata": {
    "colab": {
      "provenance": [],
      "authorship_tag": "ABX9TyPGewIlfOcrV1NGs+aKGb5h",
      "include_colab_link": true
    },
    "kernelspec": {
      "name": "python3",
      "display_name": "Python 3"
    },
    "language_info": {
      "name": "python"
    }
  },
  "cells": [
    {
      "cell_type": "markdown",
      "metadata": {
        "id": "view-in-github",
        "colab_type": "text"
      },
      "source": [
        "<a href=\"https://colab.research.google.com/github/psygorozco/ML/blob/main/gradio_google_gemma.ipynb\" target=\"_parent\"><img src=\"https://colab.research.google.com/assets/colab-badge.svg\" alt=\"Open In Colab\"/></a>"
      ]
    },
    {
      "cell_type": "code",
      "execution_count": 1,
      "metadata": {
        "colab": {
          "base_uri": "https://localhost:8080/",
          "height": 383
        },
        "id": "j87_IdwTuaBB",
        "outputId": "c8b917e6-e757-48f7-96b5-07c9b308983a"
      },
      "outputs": [
        {
          "output_type": "error",
          "ename": "ModuleNotFoundError",
          "evalue": "No module named 'gradio'",
          "traceback": [
            "\u001b[0;31m---------------------------------------------------------------------------\u001b[0m",
            "\u001b[0;31mModuleNotFoundError\u001b[0m                       Traceback (most recent call last)",
            "\u001b[0;32m<ipython-input-1-19bbf88e2880>\u001b[0m in \u001b[0;36m<cell line: 1>\u001b[0;34m()\u001b[0m\n\u001b[0;32m----> 1\u001b[0;31m \u001b[0;32mimport\u001b[0m \u001b[0mgradio\u001b[0m \u001b[0;32mas\u001b[0m \u001b[0mgr\u001b[0m\u001b[0;34m\u001b[0m\u001b[0;34m\u001b[0m\u001b[0m\n\u001b[0m\u001b[1;32m      2\u001b[0m \u001b[0;32mfrom\u001b[0m \u001b[0mhuggingface_hub\u001b[0m \u001b[0;32mimport\u001b[0m \u001b[0mInferenceClient\u001b[0m\u001b[0;34m\u001b[0m\u001b[0;34m\u001b[0m\u001b[0m\n\u001b[1;32m      3\u001b[0m \u001b[0;32mimport\u001b[0m \u001b[0mrandom\u001b[0m\u001b[0;34m\u001b[0m\u001b[0;34m\u001b[0m\u001b[0m\n\u001b[1;32m      4\u001b[0m \u001b[0;34m\u001b[0m\u001b[0m\n\u001b[1;32m      5\u001b[0m models = [\n",
            "\u001b[0;31mModuleNotFoundError\u001b[0m: No module named 'gradio'",
            "",
            "\u001b[0;31m---------------------------------------------------------------------------\u001b[0;32m\nNOTE: If your import is failing due to a missing package, you can\nmanually install dependencies using either !pip or !apt.\n\nTo view examples of installing some common dependencies, click the\n\"Open Examples\" button below.\n\u001b[0;31m---------------------------------------------------------------------------\u001b[0m\n"
          ],
          "errorDetails": {
            "actions": [
              {
                "action": "open_url",
                "actionText": "Open Examples",
                "url": "/notebooks/snippets/importing_libraries.ipynb"
              }
            ]
          }
        }
      ],
      "source": [
        "import gradio as gr\n",
        "from huggingface_hub import InferenceClient\n",
        "import random\n",
        "\n",
        "models = [\n",
        "    \"google/gemma-7b\",\n",
        "    \"google/gemma-7b-it\",\n",
        "    \"google/gemma-2b\",\n",
        "    \"google/gemma-2b-it\"\n",
        "]\n",
        "\n",
        "clients = []\n",
        "for model in models:\n",
        "    clients.append(InferenceClient(model))\n",
        "\n",
        "\n",
        "def format_prompt(message, history):\n",
        "    prompt = \"\"\n",
        "    if history:\n",
        "        for user_prompt, bot_response in history:\n",
        "            prompt += f\"<start_of_turn>user{user_prompt}<end_of_turn>\"\n",
        "            prompt += f\"<start_of_turn>model{bot_response}\"\n",
        "    prompt += f\"<start_of_turn>user{message}<end_of_turn><start_of_turn>model\"\n",
        "    return prompt\n",
        "\n",
        "\n",
        "def chat_inf(system_prompt, prompt, history, client_choice, seed, temp, tokens, top_p, rep_p):\n",
        "    client = clients[int(client_choice) - 1]\n",
        "    if not history:\n",
        "        history = []\n",
        "        hist_len = 0\n",
        "    if history:\n",
        "        hist_len = len(history)\n",
        "        print(hist_len)\n",
        "\n",
        "    generate_kwargs = dict(\n",
        "        temperature=temp,\n",
        "        max_new_tokens=tokens,\n",
        "        top_p=top_p,\n",
        "        repetition_penalty=rep_p,\n",
        "        do_sample=True,\n",
        "        seed=seed,\n",
        "    )\n",
        "    formatted_prompt = format_prompt(f\"{system_prompt}, {prompt}\", history)\n",
        "    stream = client.text_generation(formatted_prompt, **generate_kwargs, stream=True, details=True,\n",
        "                                    return_full_text=False)\n",
        "    output = \"\"\n",
        "\n",
        "    for response in stream:\n",
        "        output += response.token.text\n",
        "        yield [(prompt, output)]\n",
        "    history.append((prompt, output))\n",
        "    yield history\n",
        "\n",
        "\n",
        "def clear_fn():\n",
        "    return None\n",
        "\n",
        "\n",
        "rand_val = random.randint(1, 1111111111111111)\n",
        "\n",
        "\n",
        "def check_rand(inp, val):\n",
        "    if inp is True:\n",
        "        return gr.Slider(label=\"Seed\", minimum=1, maximum=1111111111111111, value=random.randint(1, 1111111111111111))\n",
        "    else:\n",
        "        return gr.Slider(label=\"Seed\", minimum=1, maximum=1111111111111111, value=int(val))\n",
        "\n",
        "\n",
        "with gr.Blocks() as app:\n",
        "    gr.HTML(\n",
        "        \"\"\"<center><h1 style='font-size:xx-large;'>Google Gemma Models</h1></center>\"\"\")\n",
        "    with gr.Group():\n",
        "        with gr.Row():\n",
        "            client_choice = gr.Dropdown(label=\"Models\", type='index', choices=[c for c in models], value=models[0],\n",
        "                                        interactive=True)\n",
        "    chat_b = gr.Chatbot(height=500)\n",
        "    with gr.Group():\n",
        "        with gr.Row():\n",
        "            with gr.Column(scale=1):\n",
        "                with gr.Group():\n",
        "                    rand = gr.Checkbox(label=\"Random Seed\", value=True)\n",
        "                    seed = gr.Slider(label=\"Seed\", minimum=1, maximum=1111111111111111, step=1, value=rand_val)\n",
        "                    tokens = gr.Slider(label=\"Max new tokens\", value=6400, minimum=0, maximum=8000, step=64,\n",
        "                                       interactive=True, visible=True, info=\"The maximum number of tokens\")\n",
        "            with gr.Column(scale=1):\n",
        "                with gr.Group():\n",
        "                    temp = gr.Slider(label=\"Temperature\", step=0.01, minimum=0.01, maximum=1.0, value=0.9)\n",
        "                    top_p = gr.Slider(label=\"Top-P\", step=0.01, minimum=0.01, maximum=1.0, value=0.9)\n",
        "                    rep_p = gr.Slider(label=\"Repetition Penalty\", step=0.1, minimum=0.1, maximum=2.0, value=1.0)\n",
        "\n",
        "    with gr.Group():\n",
        "        with gr.Row():\n",
        "            with gr.Column(scale=3):\n",
        "                sys_inp = gr.Textbox(label=\"System Prompt (optional)\")\n",
        "                inp = gr.Textbox(label=\"Prompt\")\n",
        "                with gr.Row():\n",
        "                    btn = gr.Button(\"Chat\")\n",
        "                    stop_btn = gr.Button(\"Stop\")\n",
        "                    clear_btn = gr.Button(\"Clear\")\n",
        "\n",
        "    chat_sub = inp.submit(check_rand, [rand, seed], seed).then(chat_inf,\n",
        "                                                               [sys_inp, inp, chat_b, client_choice, seed, temp, tokens,\n",
        "                                                                top_p, rep_p], chat_b)\n",
        "    go = btn.click(check_rand, [rand, seed], seed).then(chat_inf,\n",
        "                                                        [sys_inp, inp, chat_b, client_choice, seed, temp, tokens, top_p,\n",
        "                                                         rep_p], chat_b)\n",
        "    stop_btn.click(None, None, None, cancels=[go, chat_sub])\n",
        "    clear_btn.click(clear_fn, None, [chat_b])\n",
        "app.queue(default_concurrency_limit=10).launch()"
      ]
    }
  ]
}